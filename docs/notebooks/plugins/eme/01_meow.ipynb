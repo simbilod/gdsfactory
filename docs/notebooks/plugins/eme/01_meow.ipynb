{
 "cells": [
  {
   "cell_type": "markdown",
   "metadata": {},
   "source": [
    "# EME with MEOW\n",
    "\n",
    "Some components are more efficiently modeled with Eigenmode Expansion.\n",
    "\n",
    "Gdsfactory provides a plugin for MEOW to efficiently extract component S-parameters through EME.\n",
    "\n",
    "Currently the component needs to specifically have a single \"o1\" port facing west, and a single \"o2\" port facing east, like this taper:"
   ]
  },
  {
   "cell_type": "code",
   "execution_count": null,
   "metadata": {},
   "outputs": [],
   "source": [
    "import matplotlib.pyplot as plt\n",
    "from gdsfactory.simulation.eme import MEOW\n",
    "import gdsfactory as gf\n",
    "import numpy as np\n",
    "\n",
    "c = gf.components.taper_cross_section_sine()\n",
    "c"
   ]
  },
  {
   "cell_type": "markdown",
   "metadata": {},
   "source": [
    "You also need to explicitly provide a LayerStack to define cross-sections, for instance the generic one:"
   ]
  },
  {
   "cell_type": "code",
   "execution_count": null,
   "metadata": {},
   "outputs": [],
   "source": [
    "layerstack = gf.generic_tech.LAYER_STACK\n",
    "\n",
    "filtered_layerstack = gf.technology.LayerStack(\n",
    "    layers={\n",
    "        k: layerstack.layers[k]\n",
    "        for k in (\n",
    "            \"slab90\",\n",
    "            \"core\",\n",
    "            \"box\",\n",
    "            \"clad\",\n",
    "        )\n",
    "    }\n",
    ")"
   ]
  },
  {
   "cell_type": "markdown",
   "metadata": {},
   "source": [
    "Since you need to make sure that your entire LayerStack has e.g. material information for all present layers, it is safer to only keep the layers that you need for your simulation:"
   ]
  },
  {
   "cell_type": "markdown",
   "metadata": {},
   "source": [
    "The EME simulator can be instantiated with only these two elements, alongside parameters:"
   ]
  },
  {
   "cell_type": "code",
   "execution_count": null,
   "metadata": {},
   "outputs": [],
   "source": [
    "eme = MEOW(component=c, layerstack=filtered_layerstack, wavelength=1.55)"
   ]
  },
  {
   "cell_type": "markdown",
   "metadata": {},
   "source": [
    "Plotting functions allow you to check your simulation:"
   ]
  },
  {
   "cell_type": "code",
   "execution_count": null,
   "metadata": {},
   "outputs": [],
   "source": [
    "eme.plot_structure()"
   ]
  },
  {
   "cell_type": "markdown",
   "metadata": {},
   "source": [
    "The cross-section themselves:"
   ]
  },
  {
   "cell_type": "code",
   "execution_count": null,
   "metadata": {},
   "outputs": [],
   "source": [
    "eme.plot_cross_section(xs_num=0)"
   ]
  },
  {
   "cell_type": "code",
   "execution_count": null,
   "metadata": {},
   "outputs": [],
   "source": [
    "eme.plot_cross_section(xs_num=-1)"
   ]
  },
  {
   "cell_type": "markdown",
   "metadata": {},
   "source": [
    "And the modes (after calculating them):"
   ]
  },
  {
   "cell_type": "code",
   "execution_count": null,
   "metadata": {},
   "outputs": [],
   "source": [
    "eme.plot_mode(xs_num=0, mode_num=0)"
   ]
  },
  {
   "cell_type": "code",
   "execution_count": null,
   "metadata": {},
   "outputs": [],
   "source": [
    "eme.plot_mode(xs_num=-1, mode_num=0)"
   ]
  },
  {
   "cell_type": "markdown",
   "metadata": {},
   "source": [
    "The S-parameters can be calculated, and are returned in the same format as for the FDTD solvers (the original MEOW S-parameter results S and port_names are saved as attributes):"
   ]
  },
  {
   "cell_type": "code",
   "execution_count": null,
   "metadata": {},
   "outputs": [],
   "source": [
    "sp = eme.compute_sparameters()"
   ]
  },
  {
   "cell_type": "code",
   "execution_count": null,
   "metadata": {},
   "outputs": [],
   "source": [
    "print(np.abs(sp[\"o1@0,o2@0\"]) ** 2)"
   ]
  },
  {
   "cell_type": "code",
   "execution_count": null,
   "metadata": {},
   "outputs": [],
   "source": [
    "print(eme.port_map)\n",
    "eme.plot_Sparams()"
   ]
  },
  {
   "cell_type": "markdown",
   "metadata": {},
   "source": [
    "As you can see most light stays on the fundamental TE mode"
   ]
  },
  {
   "cell_type": "markdown",
   "metadata": {},
   "source": [
    "## Sweep EME length\n",
    "\n",
    "Lets sweep the length of the taper."
   ]
  },
  {
   "cell_type": "code",
   "execution_count": null,
   "metadata": {},
   "outputs": [],
   "source": [
    "layerstack = gf.generic_tech.LAYER_STACK\n",
    "\n",
    "filtered_layerstack = gf.technology.LayerStack(\n",
    "    layers={\n",
    "        k: layerstack.layers[k]\n",
    "        for k in (\n",
    "            \"slab90\",\n",
    "            \"core\",\n",
    "            \"box\",\n",
    "            \"clad\",\n",
    "        )\n",
    "    }\n",
    ")\n",
    "\n",
    "c = gf.components.taper(width2=2)\n",
    "c"
   ]
  },
  {
   "cell_type": "markdown",
   "metadata": {},
   "source": [
    "Lets do a convergence tests on the `cell_length` parameter. This depends a lot on the structure."
   ]
  },
  {
   "cell_type": "markdown",
   "metadata": {},
   "source": [
    "```python\n",
    "\n",
    "import matplotlib.pyplot as plt\n",
    "\n",
    "trans = []\n",
    "cells_lengths = [0.1, 0.25, 0.5, 0.75, 1]\n",
    "\n",
    "for cell_length in cells_lengths:\n",
    "    m = MEOW(component=c, \n",
    "                layerstack=filtered_layerstack, \n",
    "                wavelength=1.55,\n",
    "                resolution_x=100,\n",
    "                resolution_y=100,\n",
    "                spacing_x=1,\n",
    "                spacing_y=-3,\n",
    "                num_modes=4,\n",
    "                cell_length=cell_length,\n",
    "                )\n",
    "    sp = m.compute_sparameters()\n",
    "    te0_trans = np.abs(sp[\"o1@0,o2@0\"])**2\n",
    "    trans.append(te0_trans)\n",
    "    \n",
    "plt.plot(cells_lengths, trans, '.-')\n",
    "plt.title(\"10um taper, resx = resy = 100, num_modes = 4\")\n",
    "plt.xlabel(\"Cell length (um)\")\n",
    "plt.ylabel(\"TE0 transmission\")\n",
    "\n",
    "```\n",
    "\n",
    "![](https://i.imgur.com/70dU6fo.png)"
   ]
  },
  {
   "cell_type": "code",
   "execution_count": null,
   "metadata": {},
   "outputs": [],
   "source": [
    "eme = MEOW(component=c, layerstack=filtered_layerstack, wavelength=1.55)"
   ]
  },
  {
   "cell_type": "code",
   "execution_count": null,
   "metadata": {},
   "outputs": [],
   "source": [
    "eme.plot_cross_section(xs_num=0)"
   ]
  },
  {
   "cell_type": "code",
   "execution_count": null,
   "metadata": {},
   "outputs": [],
   "source": [
    "eme.plot_mode(xs_num=0, mode_num=0)"
   ]
  },
  {
   "cell_type": "code",
   "execution_count": null,
   "metadata": {},
   "outputs": [],
   "source": [
    "eme.plot_cross_section(xs_num=-1)"
   ]
  },
  {
   "cell_type": "code",
   "execution_count": null,
   "metadata": {},
   "outputs": [],
   "source": [
    "eme.plot_mode(xs_num=-1, mode_num=0)"
   ]
  },
  {
   "cell_type": "code",
   "execution_count": null,
   "metadata": {},
   "outputs": [],
   "source": [
    "sp = eme.compute_sparameters()"
   ]
  },
  {
   "cell_type": "code",
   "execution_count": null,
   "metadata": {},
   "outputs": [],
   "source": [
    "print(eme.port_map)\n",
    "eme.plot_Sparams()"
   ]
  },
  {
   "cell_type": "code",
   "execution_count": null,
   "metadata": {},
   "outputs": [],
   "source": [
    "T = np.abs(sp[\"o1@0,o2@0\"]) ** 2\n",
    "T"
   ]
  },
  {
   "cell_type": "code",
   "execution_count": null,
   "metadata": {},
   "outputs": [],
   "source": [
    "np.abs(sp[\"o1@0,o2@2\"]) ** 2"
   ]
  },
  {
   "cell_type": "code",
   "execution_count": null,
   "metadata": {},
   "outputs": [],
   "source": [
    "lengths = np.array([1, 5, 10])\n",
    "T = np.zeros_like(lengths, dtype=float)"
   ]
  },
  {
   "cell_type": "code",
   "execution_count": null,
   "metadata": {},
   "outputs": [],
   "source": [
    "for length in lengths:\n",
    "    c = gf.components.taper(width2=2, length=length)\n",
    "    c.plot()"
   ]
  },
  {
   "cell_type": "code",
   "execution_count": null,
   "metadata": {},
   "outputs": [],
   "source": [
    "for i, length in enumerate(lengths):\n",
    "    c = gf.components.taper(width2=10, length=length)\n",
    "    eme = MEOW(component=c, layerstack=filtered_layerstack, wavelength=1.55)\n",
    "    sp = eme.compute_sparameters()\n",
    "    T[i] = np.abs(sp[\"o1@0,o2@0\"]) ** 2"
   ]
  },
  {
   "cell_type": "code",
   "execution_count": null,
   "metadata": {},
   "outputs": [],
   "source": [
    "plt.plot(lengths, T, \".\")\n",
    "plt.title(\"Fundamental mode transmission\")\n",
    "plt.ylabel(\"Transmission\")\n",
    "plt.xlabel(\"taper length (um)\")"
   ]
  },
  {
   "cell_type": "code",
   "execution_count": null,
   "metadata": {},
   "outputs": [],
   "source": [
    "T"
   ]
  }
 ],
 "metadata": {
  "kernelspec": {
   "display_name": "Python 3 (ipykernel)",
   "language": "python",
   "name": "python3"
  },
  "language_info": {
   "codemirror_mode": {
    "name": "ipython",
    "version": 3
   },
   "file_extension": ".py",
   "mimetype": "text/x-python",
   "name": "python",
   "nbconvert_exporter": "python",
   "pygments_lexer": "ipython3",
   "version": "3.10.6"
  },
  "vscode": {
   "interpreter": {
    "hash": "6d7223ce8465a0e0fac78de740ee4d551d77f92c9ee422f2ad1c5705fa088cac"
   }
  }
 },
 "nbformat": 4,
 "nbformat_minor": 4
}
