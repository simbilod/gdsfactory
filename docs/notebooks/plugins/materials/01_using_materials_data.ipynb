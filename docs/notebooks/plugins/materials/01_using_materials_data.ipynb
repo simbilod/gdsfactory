{
 "cells": [
  {
   "cell_type": "markdown",
   "metadata": {},
   "source": [
    "# Loading material data\n",
    "\n",
    "Gdsfactory has simulation interfaces to many solvers, each of which requires materials data. Therefore, the community develops and maintains a common database interface to simplify the retrieval of commonly-used materials constants.\n",
    "\n",
    "## Material classes\n",
    "\n",
    "Because material parameters need to be expressed in different ways depending on the application (e.g. constant, callable models, etc.), and may be retrieved from different sources, materials are objects:"
   ]
  },
  {
   "cell_type": "code",
   "execution_count": null,
   "metadata": {},
   "outputs": [],
   "source": [
    "from gdsfactory.database.materials.inorganic import Si\n",
    "from pint import UnitRegistry\n",
    "\n",
    "ureg = UnitRegistry()\n",
    "si = Si(ureg=ureg)"
   ]
  },
  {
   "cell_type": "markdown",
   "metadata": {},
   "source": [
    "To keep things manageable and avoid conflicts in properties names or variables, the material objects are are given sub-attributes such as OpticalMaterial, ThermalMaterial, etc. \n",
    "\n",
    "Upon instantiation, acceptable materials properties defaults are populated.\n",
    "\n",
    "Example constant:"
   ]
  },
  {
   "cell_type": "code",
   "execution_count": null,
   "metadata": {},
   "outputs": [],
   "source": [
    "si.semiconductor.Eg"
   ]
  },
  {
   "cell_type": "markdown",
   "metadata": {},
   "source": [
    "Example callable:"
   ]
  },
  {
   "cell_type": "code",
   "execution_count": null,
   "metadata": {},
   "outputs": [],
   "source": [
    "import numpy as np\n",
    "import matplotlib.pyplot as plt\n",
    "\n",
    "wavelengths = np.linspace(1.5,1.6,100) * ureg.micrometers\n",
    "\n",
    "plt.plot(wavelengths, si.optical.n(wavelengths))\n",
    "plt.xlabel(f\"Wavelength ({wavelengths[0].units})\")\n",
    "plt.ylabel(\"Re(n)\")"
   ]
  },
  {
   "cell_type": "code",
   "execution_count": null,
   "metadata": {},
   "outputs": [],
   "source": [
    "import numpy as np\n",
    "import matplotlib.pyplot as plt\n",
    "\n",
    "wavelengths = np.linspace(1500,1600,100) * ureg.nanometers\n",
    "\n",
    "plt.plot(wavelengths, si.optical.n(wavelengths))\n",
    "plt.xlabel(f\"Wavelength ({wavelengths[0].units})\")\n",
    "plt.ylabel(\"Re(n)\")"
   ]
  },
  {
   "cell_type": "code",
   "execution_count": null,
   "metadata": {},
   "outputs": [],
   "source": [
    "plt.plot(wavelengths, si.optical.k(wavelengths))\n",
    "plt.xlabel(f\"Wavelength ({wavelengths[0].units})\")\n",
    "plt.ylabel(\"Im(n)\")"
   ]
  },
  {
   "cell_type": "markdown",
   "metadata": {},
   "source": [
    "## Units\n",
    "\n",
    "To avoid ambiguity in unit definitions, all Material class attributes (as well as arguments if they are callable) use Pint objects with built-in units.\n",
    "\n",
    "The same UnitRegistry object can be passed to different materials on instantiation to allow seamless conversion.\n",
    "\n",
    "Within a solver, the quantities can be converted as required and evaluated:"
   ]
  },
  {
   "cell_type": "code",
   "execution_count": null,
   "metadata": {},
   "outputs": [],
   "source": [
    "ureg = UnitRegistry()\n",
    "\n",
    "x = 2 * ureg.meters\n",
    "x"
   ]
  },
  {
   "cell_type": "code",
   "execution_count": null,
   "metadata": {},
   "outputs": [],
   "source": [
    "x.m"
   ]
  }
 ],
 "metadata": {
  "kernelspec": {
   "display_name": "Python 3.10.8 ('gf1_tooling')",
   "language": "python",
   "name": "python3"
  },
  "language_info": {
   "codemirror_mode": {
    "name": "ipython",
    "version": 3
   },
   "file_extension": ".py",
   "mimetype": "text/x-python",
   "name": "python",
   "nbconvert_exporter": "python",
   "pygments_lexer": "ipython3",
   "version": "3.10.8"
  },
  "vscode": {
   "interpreter": {
    "hash": "9681f22f6b021b51767cd12f2ee94a3aa82f62cc2b3c7aa4d0f31bfe25e768dd"
   }
  }
 },
 "nbformat": 4,
 "nbformat_minor": 2
}
