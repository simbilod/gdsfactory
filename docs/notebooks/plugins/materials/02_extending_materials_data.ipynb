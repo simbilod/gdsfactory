{
 "cells": [
  {
   "cell_type": "markdown",
   "metadata": {},
   "source": [
    "# Extending materials models\n",
    "\n",
    "Each material object inherits material classes such as OpticalMaterial, ThermalMaterial, etc.\n",
    "\n",
    "The attributes represent physical quantities of interest, and methods implement various manipulations of these quantities.\n",
    "\n",
    "An important method that can be created is loading data form an external source. This is implemented for OpticalMaterial for the refractiveindexinfo database:"
   ]
  },
  {
   "cell_type": "code",
   "execution_count": null,
   "metadata": {},
   "outputs": [],
   "source": [
    "from gdsfactory.database.materials.inorganic import Si\n",
    "from pint import UnitRegistry\n",
    "\n",
    "ureg = UnitRegistry()\n",
    "si = Si(ureg=ureg)"
   ]
  },
  {
   "cell_type": "code",
   "execution_count": null,
   "metadata": {},
   "outputs": [],
   "source": [
    "si.optical.n(1.55 * ureg.micrometers)"
   ]
  },
  {
   "cell_type": "code",
   "execution_count": null,
   "metadata": {},
   "outputs": [],
   "source": [
    "si.optical.fit_index_from_refractiveindexinfo(url=\"https://refractiveindex.info/?shelf=main&book=Si&page=Salzberg\")\n",
    "si.optical.n(1.55 * ureg.micrometers)"
   ]
  },
  {
   "cell_type": "code",
   "execution_count": null,
   "metadata": {},
   "outputs": [],
   "source": [
    "import numpy as np\n",
    "\n",
    "wls = np.array([1.525, 1.575]) * ureg.micrometers\n",
    "ns = np.array([3.45, 3.45])\n",
    "si.optical.fit_index_from_wls_nk(wls=wls, ns=ns)\n",
    "si.optical.n(1550 * ureg.nanometers) # units accounted for"
   ]
  },
  {
   "cell_type": "markdown",
   "metadata": {},
   "source": []
  }
 ],
 "metadata": {
  "kernelspec": {
   "display_name": "Python 3.10.8 ('gf1_tooling')",
   "language": "python",
   "name": "python3"
  },
  "language_info": {
   "codemirror_mode": {
    "name": "ipython",
    "version": 3
   },
   "file_extension": ".py",
   "mimetype": "text/x-python",
   "name": "python",
   "nbconvert_exporter": "python",
   "pygments_lexer": "ipython3",
   "version": "3.10.8"
  },
  "vscode": {
   "interpreter": {
    "hash": "9681f22f6b021b51767cd12f2ee94a3aa82f62cc2b3c7aa4d0f31bfe25e768dd"
   }
  }
 },
 "nbformat": 4,
 "nbformat_minor": 2
}
