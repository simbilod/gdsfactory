{
 "cells": [
  {
   "cell_type": "markdown",
   "id": "1413f21c",
   "metadata": {},
   "source": [
    "# Finite-element mode solver\n",
    "\n",
    "You can mesh any component cross-section and solve the PDEs thanks to `femwell` mode - solver.\n",
    "\n",
    "Unlike other mode solvers, this actually uses the component geometry instead of a hardcoded geometry.\n",
    "\n",
    "You can directly compute the modes of a Gdsfactory cross-section (internally, it defines a \"uz\" mesh  perpendicular to a straight component with the provided cross-section).\n",
    "\n",
    "You can also downsample layers from the LayerStack, and modify both the cross-section and LayerStack  prior to simulation to change the geometry. You can also define refractive indices on the active PDK."
   ]
  },
  {
   "cell_type": "code",
   "execution_count": null,
   "id": "7dde51ba",
   "metadata": {},
   "outputs": [],
   "source": [
    "%%capture\n",
    "from gdsfactory.simulation.fem.mode_solver import compute_cross_section_modes\n",
    "from gdsfactory.tech import LayerStack, get_layer_stack_generic\n",
    "from gdsfactory.cross_section import rib\n",
    "\n",
    "filtered_layerstack = LayerStack(\n",
    "    layers={\n",
    "        k: get_layer_stack_generic().layers[k]\n",
    "        for k in (\n",
    "            \"core\",\n",
    "            \"clad\",\n",
    "            \"slab90\",\n",
    "            \"box\",\n",
    "        )\n",
    "    }\n",
    ")\n",
    "\n",
    "filtered_layerstack.layers[\n",
    "    \"core\"\n",
    "].thickness = 0.2  # Perturb the layerstack before simulating\n",
    "\n",
    "resolutions = {}\n",
    "resolutions[\"core\"] = {\"resolution\": 0.02, \"distance\": 2}\n",
    "resolutions[\"clad\"] = {\"resolution\": 0.2, \"distance\": 1}\n",
    "resolutions[\"box\"] = {\"resolution\": 0.2, \"distance\": 1}\n",
    "resolutions[\"slab90\"] = {\"resolution\": 0.05, \"distance\": 1}\n",
    "\n",
    "lams, basis, xs = compute_cross_section_modes(\n",
    "    cross_section=rib(width=0.6),\n",
    "    layerstack=filtered_layerstack,\n",
    "    wl=1.55,\n",
    "    num_modes=4,\n",
    "    resolutions=resolutions,\n",
    ")"
   ]
  },
  {
   "cell_type": "markdown",
   "id": "ae9b2b87",
   "metadata": {},
   "source": [
    "The solver returns the effective indices (lams), FEM basis functions (basis) and eigenvectors (xs):"
   ]
  },
  {
   "cell_type": "code",
   "execution_count": null,
   "id": "8df58b39",
   "metadata": {},
   "outputs": [],
   "source": [
    "lams, basis, xs"
   ]
  },
  {
   "cell_type": "markdown",
   "id": "6a02fddf",
   "metadata": {},
   "source": [
    "You can use them as inputs to other [femwell mode solver functions](https://github.com/HelgeGehring/femwell/blob/main/femwell/mode_solver.py) to inspect or analyze the modes:"
   ]
  },
  {
   "cell_type": "code",
   "execution_count": null,
   "id": "e3dca692",
   "metadata": {},
   "outputs": [],
   "source": [
    "%%capture\n",
    "from femwell import mode_solver\n",
    "import numpy as np\n",
    "\n",
    "fig = mode_solver.plot_mode(\n",
    "    basis, np.real(xs[0]), plot_vectors=False, colorbar=True, title=\"E\", direction=\"y\"\n",
    ")"
   ]
  },
  {
   "cell_type": "code",
   "execution_count": null,
   "id": "ef4e73f1",
   "metadata": {},
   "outputs": [],
   "source": [
    "fig[0]"
   ]
  },
  {
   "cell_type": "code",
   "execution_count": null,
   "id": "25b02681",
   "metadata": {},
   "outputs": [],
   "source": [
    "%%capture\n",
    "te_frac = mode_solver.calculate_te_frac(basis, xs[0])"
   ]
  },
  {
   "cell_type": "code",
   "execution_count": null,
   "id": "cef8fae2",
   "metadata": {},
   "outputs": [],
   "source": [
    "te_frac"
   ]
  },
  {
   "cell_type": "markdown",
   "id": "c0c26422",
   "metadata": {},
   "source": [
    "## Sweep waveguide width"
   ]
  },
  {
   "cell_type": "code",
   "execution_count": null,
   "id": "dccace3c",
   "metadata": {},
   "outputs": [],
   "source": [
    "%%capture\n",
    "from tqdm.auto import tqdm\n",
    "import gdsfactory as gf\n",
    "from femwell import mode_solver\n",
    "import numpy as np\n",
    "import matplotlib.pyplot as plt\n",
    "\n",
    "widths = np.linspace(0.2, 2, 20)\n",
    "num_modes = 4\n",
    "all_lams = np.zeros((widths.shape[0], num_modes))\n",
    "all_te_fracs = np.zeros((widths.shape[0], num_modes))\n",
    "\n",
    "for i, width in enumerate(tqdm(widths)):\n",
    "    lams, basis, xs = compute_cross_section_modes(\n",
    "        cross_section=gf.cross_section.strip(width=width),\n",
    "        layerstack=filtered_layerstack,\n",
    "        wl=1.55,\n",
    "        num_modes=num_modes,\n",
    "        resolutions=resolutions,\n",
    "    )\n",
    "    all_lams[i] = lams\n",
    "    all_te_fracs[i, :] = [\n",
    "        mode_solver.calculate_te_frac(basis, xs[idx]) for idx in range(num_modes)\n",
    "    ]"
   ]
  },
  {
   "cell_type": "code",
   "execution_count": null,
   "id": "1d68931e",
   "metadata": {},
   "outputs": [],
   "source": [
    "all_lams = np.real(all_lams)\n",
    "plt.xlabel(\"waveguide Width [µm]\")\n",
    "plt.ylabel(\"Effective refractive index\")\n",
    "plt.ylim(1.444, np.max(all_lams) + 0.1 * (np.max(all_lams) - 1.444))\n",
    "\n",
    "for lams, te_fracs in zip(all_lams.T, all_te_fracs.T):\n",
    "    plt.plot(widths, lams)\n",
    "    plt.scatter(widths, lams, c=te_fracs, cmap=\"cool\")"
   ]
  },
  {
   "cell_type": "code",
   "execution_count": null,
   "id": "cecadd6e",
   "metadata": {},
   "outputs": [],
   "source": []
  }
 ],
 "metadata": {
  "kernelspec": {
   "display_name": "Python 3 (ipykernel)",
   "language": "python",
   "name": "python3"
  },
  "language_info": {
   "codemirror_mode": {
    "name": "ipython",
    "version": 3
   },
   "file_extension": ".py",
   "mimetype": "text/x-python",
   "name": "python",
   "nbconvert_exporter": "python",
   "pygments_lexer": "ipython3",
   "version": "3.10.6"
  }
 },
 "nbformat": 4,
 "nbformat_minor": 5
}
