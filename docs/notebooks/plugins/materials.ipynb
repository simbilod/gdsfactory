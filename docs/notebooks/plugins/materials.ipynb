{
 "cells": [
  {
   "cell_type": "markdown",
   "id": "461cb36a-0739-440a-9641-9c86ffb55cb2",
   "metadata": {},
   "source": [
    "## Materials\n",
    "\n",
    "- How can you register your own material refractive index info for a particular PDK?\n",
    "- How can you use the same material index when using different plugins (tidy3d, meep, lumerical ...)?\n",
    "\n",
    "You can define a material by name, real refractive index, complex refractive index (for loss) or by a function of wavelength."
   ]
  },
  {
   "cell_type": "code",
   "execution_count": null,
   "id": "8bc73e6d-64b8-442a-a9ec-6a825ab0eb46",
   "metadata": {},
   "outputs": [],
   "source": [
    "import numpy as np\n",
    "import gdsfactory.simulation.gtidy3d as gt"
   ]
  },
  {
   "cell_type": "code",
   "execution_count": null,
   "id": "1460c7b3-b34f-451c-b19a-ed0f27190dc1",
   "metadata": {},
   "outputs": [],
   "source": [
    "strip = gt.modes.Waveguide(\n",
    "    wavelength=1.55,\n",
    "    wg_width=0.5,\n",
    "    wg_thickness=0.22,\n",
    "    slab_thickness=0.0,\n",
    "    ncore='si',\n",
    "    nclad='sio2',\n",
    ")\n",
    "strip.plot_index()"
   ]
  },
  {
   "cell_type": "markdown",
   "id": "8221d0c1-fc1d-4341-990b-a533c6c4295c",
   "metadata": {},
   "source": [
    "## Option 1: define material with a value"
   ]
  },
  {
   "cell_type": "code",
   "execution_count": null,
   "id": "c5eef8eb-8c09-4a5c-9bc5-82b990b6d2f8",
   "metadata": {},
   "outputs": [],
   "source": [
    "from gdsfactory.pdk import _ACTIVE_PDK\n",
    "_ACTIVE_PDK.materials_index.update(sin=2)"
   ]
  },
  {
   "cell_type": "code",
   "execution_count": null,
   "id": "8de31ef3-4c10-412d-8934-7640fce2cbb3",
   "metadata": {},
   "outputs": [],
   "source": [
    "strip = gt.modes.Waveguide(\n",
    "    wavelength=1.55,\n",
    "    wg_width=0.5,\n",
    "    wg_thickness=0.22,\n",
    "    slab_thickness=0.0,\n",
    "    ncore='sin',\n",
    "    nclad='sio2',\n",
    ")\n",
    "strip.plot_index()"
   ]
  },
  {
   "cell_type": "markdown",
   "id": "0d4397f6-32c0-4e45-93ce-c9d25fa6c900",
   "metadata": {},
   "source": [
    "## Option 2: define material with a function"
   ]
  },
  {
   "cell_type": "code",
   "execution_count": null,
   "id": "5f638d19-b72f-4b94-81c1-443a5896bfdf",
   "metadata": {},
   "outputs": [],
   "source": [
    "def sin(wav:float)->float:\n",
    "    w = [1.3, 1.5]\n",
    "    n = [1.9, 2.1]\n",
    "    p = np.polyfit(w, n, 1)\n",
    "    return np.polyval(p, wav)\n",
    "    \n",
    "_ACTIVE_PDK.materials_index.update(sin=sin)"
   ]
  },
  {
   "cell_type": "code",
   "execution_count": null,
   "id": "d31cbff4-d240-42a0-b19e-a49745baf734",
   "metadata": {},
   "outputs": [],
   "source": [
    "strip = gt.modes.Waveguide(\n",
    "    wavelength=1.5,\n",
    "    wg_width=0.5,\n",
    "    wg_thickness=0.22,\n",
    "    slab_thickness=0.0,\n",
    "    ncore='sin',\n",
    "    nclad='sio2',\n",
    ")\n",
    "strip.plot_index()"
   ]
  },
  {
   "cell_type": "code",
   "execution_count": null,
   "id": "7898557c-2043-462f-9bcc-93767fe40464",
   "metadata": {},
   "outputs": [],
   "source": [
    "from gdsfactory.components.taper import taper_sc_nc\n",
    "import gdsfactory.simulation.gtidy3d as gt\n",
    "\n",
    "c = taper_sc_nc(length=10)\n",
    "c"
   ]
  },
  {
   "cell_type": "code",
   "execution_count": null,
   "id": "d44acce1-bf07-48b4-bf4f-ca7f9295b3e0",
   "metadata": {},
   "outputs": [],
   "source": [
    "s = gt.get_simulation(c, plot_modes=True)\n",
    "fig = gt.plot_simulation_xz(s)"
   ]
  },
  {
   "cell_type": "code",
   "execution_count": null,
   "id": "0c67a9f8-19cc-45b1-b88b-888bd05d7197",
   "metadata": {},
   "outputs": [],
   "source": [
    "import gdsfactory.simulation.gmeep as gm\n",
    "from gdsfactory.components.taper import taper_sc_nc\n",
    "\n",
    "c = taper_sc_nc(length=10)\n",
    "gm.write_sparameters_meep(c, ymargin=3, run=False, wavelength_start=1.31, wavelength_stop=1.36)"
   ]
  },
  {
   "cell_type": "markdown",
   "id": "0afe018b-98a1-482b-9152-715683bf3013",
   "metadata": {},
   "source": [
    "## Register materials into a PDK\n",
    "\n",
    "You can register all `materials_index` functions into a PDK."
   ]
  },
  {
   "cell_type": "code",
   "execution_count": null,
   "id": "c2728aa7-e643-453b-abda-74f698d7f3d9",
   "metadata": {},
   "outputs": [],
   "source": [
    "from gdsfactory.pdk import Pdk\n",
    "\n",
    "def sin(wav:float)->float:\n",
    "    w = [1.3, 1.5]\n",
    "    n = [1.9, 2.1]\n",
    "    p = np.polyfit(w, n, 1)\n",
    "    return np.polyval(p, wav)\n",
    "\n",
    "def si(wav:float)->float:\n",
    "    w = [1.3, 1.5]\n",
    "    n = [3.45, 3.47]\n",
    "    p = np.polyfit(w, n, 1)\n",
    "    return np.polyval(p, wav)\n",
    "\n",
    "\n",
    "materials_index = dict(sin=sin, si=si)\n",
    "\n",
    "p = Pdk(name='fab_a', materials_index=materials_index)"
   ]
  }
 ],
 "metadata": {
  "kernelspec": {
   "display_name": "Python 3 (ipykernel)",
   "language": "python",
   "name": "python3"
  },
  "language_info": {
   "codemirror_mode": {
    "name": "ipython",
    "version": 3
   },
   "file_extension": ".py",
   "mimetype": "text/x-python",
   "name": "python",
   "nbconvert_exporter": "python",
   "pygments_lexer": "ipython3",
   "version": "3.10.8"
  }
 },
 "nbformat": 4,
 "nbformat_minor": 5
}
