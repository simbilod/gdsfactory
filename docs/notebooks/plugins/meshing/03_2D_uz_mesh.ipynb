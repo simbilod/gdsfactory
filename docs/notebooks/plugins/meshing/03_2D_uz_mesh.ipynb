{
 "cells": [
  {
   "cell_type": "markdown",
   "metadata": {},
   "source": [
    "# 2D meshing: uz cross-section\n",
    "\n",
    "You can mesh an out of plane `Component` cross-section by supplying the argument `type=\"uz\"` and a `xsection_bounds` under the form `[[x1,y1], [x2,y2]]`, which parametrizes a line in `u`-coordinates"
   ]
  },
  {
   "cell_type": "code",
   "execution_count": null,
   "metadata": {},
   "outputs": [],
   "source": [
    "from gdsfactory.pdk import get_layer_stack\n",
    "from gdsfactory.technology import LayerStack, LayerLevel\n",
    "import gdsfactory as gf\n",
    "from gdsfactory.simulation.gmsh.mesh import create_physical_mesh\n",
    "import meshio\n",
    "import pyvista as pv\n",
    "\n",
    "waveguide = gf.components.straight_pin(length=10, taper=None)\n",
    "waveguide_trimmed = gf.Component()\n",
    "waveguide_trimmed.add_ref(\n",
    "    gf.geometry.trim(\n",
    "        component=waveguide,\n",
    "        domain=[[3, -4], [3, 4], [5, 4], [5, -4]],\n",
    "    )\n",
    ")\n",
    "\n",
    "waveguide_trimmed"
   ]
  },
  {
   "cell_type": "code",
   "execution_count": null,
   "metadata": {},
   "outputs": [],
   "source": [
    "filtered_layerstack = LayerStack(\n",
    "    layers={\n",
    "        k: get_layer_stack().layers[k]\n",
    "        for k in (\n",
    "            \"slab90\",\n",
    "            \"core\",\n",
    "            \"via_contact\",\n",
    "        )\n",
    "    }\n",
    ")"
   ]
  },
  {
   "cell_type": "code",
   "execution_count": null,
   "metadata": {},
   "outputs": [],
   "source": [
    "filename = \"mesh\"\n",
    "\n",
    "\n",
    "def mesh_with_physicals(mesh, filename):\n",
    "    mesh_from_file = meshio.read(f\"{filename}.msh\")\n",
    "    triangle_mesh = create_physical_mesh(mesh_from_file, \"triangle\", prune_z=True)\n",
    "    meshio.write(f\"{filename}.xdmf\", triangle_mesh)\n",
    "    mesh = pv.read(f\"{filename}.xdmf\")\n",
    "    return mesh"
   ]
  },
  {
   "cell_type": "markdown",
   "metadata": {},
   "source": [
    "Choosing the line going from `y=-4` to `y=4` at `x=4`, which crosses slab, via, and core:"
   ]
  },
  {
   "cell_type": "code",
   "execution_count": null,
   "metadata": {},
   "outputs": [],
   "source": [
    "mesh = waveguide_trimmed.to_gmsh(\n",
    "    type=\"uz\",\n",
    "    xsection_bounds=[(4, -4), (4, 4)],\n",
    "    layer_stack=filtered_layerstack,\n",
    "    filename=f\"{filename}.msh\",\n",
    ")\n",
    "mesh = mesh_with_physicals(mesh, filename)"
   ]
  },
  {
   "cell_type": "markdown",
   "metadata": {},
   "source": [
    "We can plot as usual (note that the `u-z` coordinates we are working in still map to `xy` for the plotter):"
   ]
  },
  {
   "cell_type": "code",
   "execution_count": null,
   "metadata": {},
   "outputs": [],
   "source": [
    "plotter = pv.Plotter()  # instantiate the plotter\n",
    "plotter.add_mesh(mesh, style=\"wireframe\")  # add a mesh to the scene\n",
    "plotter.camera_position = \"xy\"\n",
    "plotter.show()  # show the rendering window"
   ]
  },
  {
   "cell_type": "markdown",
   "metadata": {},
   "source": [
    "## Mesh background\n",
    "\n",
    "You can add a convenience argument to add a background mesh around the geometry (instead of defining a dummy polygon and layer in the layerstack with low mesh_order):"
   ]
  },
  {
   "cell_type": "code",
   "execution_count": null,
   "metadata": {},
   "outputs": [],
   "source": [
    "mesh = waveguide_trimmed.to_gmsh(\n",
    "    type=\"uz\",\n",
    "    xsection_bounds=[(4, -4), (4, 4)],\n",
    "    layer_stack=filtered_layerstack,\n",
    "    filename=f\"{filename}.msh\",\n",
    "    background_tag=\"oxide\",\n",
    "    background_padding=(2.0, 2.0, 2.0, 2.0),\n",
    ")\n",
    "mesh = mesh_with_physicals(mesh, filename)\n",
    "\n",
    "plotter = pv.Plotter()\n",
    "plotter.add_mesh(mesh, style=\"wireframe\", show_scalar_bar=False)\n",
    "plotter.show_grid()\n",
    "plotter.camera_position = \"xy\"\n",
    "plotter.show()"
   ]
  }
 ],
 "metadata": {
  "kernelspec": {
   "display_name": "Python 3 (ipykernel)",
   "language": "python",
   "name": "python3"
  },
  "language_info": {
   "codemirror_mode": {
    "name": "ipython",
    "version": 3
   },
   "file_extension": ".py",
   "mimetype": "text/x-python",
   "name": "python",
   "nbconvert_exporter": "python",
   "pygments_lexer": "ipython3",
   "version": "3.10.6"
  },
  "nbsphinx": {
   "execute": "never"
  },
  "vscode": {
   "interpreter": {
    "hash": "f6aacea7c8042266f4630abbd029ef642556424f57599598f7cb395c6723dd83"
   }
  }
 },
 "nbformat": 4,
 "nbformat_minor": 4
}
