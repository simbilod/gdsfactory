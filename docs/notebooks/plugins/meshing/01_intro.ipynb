{
 "cells": [
  {
   "cell_type": "markdown",
   "metadata": {},
   "source": [
    "# Meshing introduction\n",
    "\n",
    "gdsfactory has interfaces to external meshers (currently: [gmsh](https://gmsh.info/)).\n",
    "\n",
    "Using a gdsfactory `Component` and a `Layerstack` reflecting the post-fabrication structure, you can automatically generate a 2D or 3D mesh suitable for physical simulation.\n",
    "\n",
    "Within gdsfactory, this interface is currently used for:\n",
    "\n",
    "* [finite-volume](https://en.wikipedia.org/wiki/Finite_volume_method) simulation through a [DEVSIM](https://devsim.org/) plugin, for e.g. TCAD simulations\n",
    "* [finite-element](https://en.wikipedia.org/wiki/Finite_element_method) simulation through the [femwell](https://github.com/HelgeGehring/femwell) wrapper around [scikit-fem](https://scikit-fem.readthedocs.io/en/latest/), for e.g. mode solving and thermal simulations\n",
    "\n",
    "Current features include:\n",
    "\n",
    "* GDS postprocessing -- common interface for layout and simulation\n",
    "* A generic shapely <--> gmsh translator, which properly reuses gmsh objects, resulting in conformal handling of\n",
    "    * lateral interfaces\n",
    "    * vertical interfaces\n",
    "    * polygon inclusions\n",
    "    * polygon \"holes\"\n",
    "* 2D meshing of in-plane cross-sections (e.g. x - y)\n",
    "* 2D meshing of out-of-plane cross-sections (e.g. arbitrary xy line - z)\n",
    "* (In progress) 3D meshing\n",
    "* The mesh is returned tagged with LayerStack `label` for each GDS layer according to a specific `mesh_order`\n",
    "* All interfaces between layer entities are also tagged as `label1___label2` to e.g. implement interfacial boundary conditions\n",
    "* Dummy layers can be easily introduced in a component to provide extra lines and polygons with custom labels to e.g. implement boundary conditions, sources, etc.\n",
    "* Coarse resolution setting per label, and around interfaces\n",
    "* Fine resolution setting with callable `[x,y,z,mesh_size]` functions (useful for simulation-driven refinement)\n",
    "\n",
    "### Philosophy\n",
    "\n",
    "GMSH can be used one of two ways:\n",
    "\n",
    "* The traditional “bottom-up” way, where the user manually defines points, then line segments (from points), then lines (from segments), then closed curves (from lines), then surfaces (from curves), then closed shells (from surfaces), and finally volumes (from shells).\n",
    "* With CAD-type boolean operations (set operations on objects)\n",
    "\n",
    "While the latter method is much simpler for complex geometries, as of 2022 it does not preserve physical and mesh information, requiring manual \"retagging\" of the entities after the boolean operations, and driving its complexity back to bottom-up construction (especially for arbitrary geometries).\n",
    "\n",
    "As such, gdsfactory uses the first approach, where the mask layers and a layerstack are used as a guide to define the various physical entities, which are returned as tagged objects to the user.\n",
    "\n",
    "## Prerequisites\n",
    "\n",
    "You can install the meshing plugins with `pip install gdsfactory[gmsh]`.\n",
    "\n",
    "Note that PyVista may not work properly on headless systems."
   ]
  },
  {
   "cell_type": "markdown",
   "metadata": {},
   "source": [
    "## Usage\n",
    "\n",
    "First, start with a gdsfactory `Component`"
   ]
  },
  {
   "cell_type": "code",
   "execution_count": null,
   "metadata": {},
   "outputs": [],
   "source": [
    "import pyvista as pv\n",
    "import meshio\n",
    "from gdsfactory.simulation.gmsh.mesh import create_physical_mesh\n",
    "from gdsfactory.generic_tech import LAYER_STACK\n",
    "from gdsfactory.technology import LayerStack\n",
    "import gdsfactory as gf\n",
    "\n",
    "waveguide = gf.components.straight_pin(length=10, taper=None)\n",
    "waveguide"
   ]
  },
  {
   "cell_type": "markdown",
   "metadata": {},
   "source": [
    "and a `LayerStack`. Here, we copy the example from `gdsfactory.generic_tech` for clarity).\n",
    "The `info` dict contains miscellaneous information about the layers, including `mesh_order`, which determines which layer will appear in the mesh if layers overlap."
   ]
  },
  {
   "cell_type": "markdown",
   "metadata": {},
   "source": [
    "We can filter this stack to only focus on some layers:"
   ]
  },
  {
   "cell_type": "code",
   "execution_count": null,
   "metadata": {},
   "outputs": [],
   "source": [
    "filtered_layerstack = LayerStack(\n",
    "    layers={\n",
    "        k: LAYER_STACK.layers[k]\n",
    "        for k in (\n",
    "            \"slab90\",\n",
    "            \"core\",\n",
    "            \"via_contact\",\n",
    "        )\n",
    "    }\n",
    ")"
   ]
  },
  {
   "cell_type": "code",
   "execution_count": null,
   "metadata": {},
   "outputs": [],
   "source": [
    "scene = waveguide.to_3d(layer_stack=filtered_layerstack)\n",
    "scene.show()"
   ]
  },
  {
   "cell_type": "markdown",
   "metadata": {},
   "source": [
    "The various processing and meshing functions are located under `gdsfactory.simulation.gmsh` and can be called from there, but a shortcut is implemented to mesh directly from a component:"
   ]
  },
  {
   "cell_type": "code",
   "execution_count": null,
   "metadata": {},
   "outputs": [],
   "source": [
    "mesh = waveguide.to_gmsh(\n",
    "    type=\"xy\", z=0.09, layer_stack=filtered_layerstack, filename=\"mesh.msh\"\n",
    ")"
   ]
  },
  {
   "cell_type": "markdown",
   "metadata": {},
   "source": [
    "This returns a gmsh `.msh` mesh, also saved in `filename` if provided, which can be processed:"
   ]
  },
  {
   "cell_type": "code",
   "execution_count": null,
   "metadata": {},
   "outputs": [],
   "source": [
    "mesh.get_cells_type(\"triangle\")"
   ]
  },
  {
   "cell_type": "markdown",
   "metadata": {},
   "source": [
    "The `gmsh` GUI can be used to load and inspect the `.msh` file:\n",
    "\n",
    "![msh mesh](https://imgur.com/jzwjEVC.png)"
   ]
  },
  {
   "cell_type": "markdown",
   "metadata": {},
   "source": [
    "[meshio](https://github.com/nschloe/meshio) can also be used to convert the `.msh` to another arbitrary format, to observe for instance with `Paraview`. This is useful, for instance to preprocess the `msh` file using the `create_mesh` utility in order to consolidate entities with the same label:"
   ]
  },
  {
   "cell_type": "code",
   "execution_count": null,
   "metadata": {},
   "outputs": [],
   "source": [
    "mesh_from_file = meshio.read(\"mesh.msh\")\n",
    "\n",
    "triangle_mesh = create_physical_mesh(mesh_from_file, \"triangle\", prune_z=True)\n",
    "meshio.write(\"mesh.xdmf\", triangle_mesh)"
   ]
  },
  {
   "cell_type": "markdown",
   "metadata": {},
   "source": [
    "Opening the `mesh.xdmf` in paraview:\n",
    "\n",
    "![](https://imgur.com/zBn5596.png)"
   ]
  },
  {
   "cell_type": "code",
   "execution_count": null,
   "metadata": {},
   "outputs": [],
   "source": [
    "line_mesh = create_physical_mesh(mesh_from_file, \"line\", prune_z=True)\n",
    "meshio.write(\"facet_mesh.xdmf\", line_mesh)"
   ]
  },
  {
   "cell_type": "markdown",
   "metadata": {},
   "source": [
    "Opening the `facet_mesh.xdmf` in paraview:\n",
    "\n",
    "![](https://imgur.com/tNhIIPK.png)"
   ]
  },
  {
   "cell_type": "markdown",
   "metadata": {},
   "source": [
    "The `xdmf` files with consolidated physical groups can also be opened dynamically in a notebook with `pyvista`:"
   ]
  },
  {
   "cell_type": "code",
   "execution_count": null,
   "metadata": {},
   "outputs": [],
   "source": [
    "mesh = pv.read(\"mesh.xdmf\")\n",
    "\n",
    "plotter = pv.Plotter()\n",
    "plotter.add_mesh(triangle_mesh, style=\"wireframe\", show_scalar_bar=False)\n",
    "plotter.show_grid()\n",
    "plotter.camera_position = \"xy\"\n",
    "plotter.show()"
   ]
  }
 ],
 "metadata": {
  "kernelspec": {
   "display_name": "Python 3 (ipykernel)",
   "language": "python",
   "name": "python3"
  },
  "language_info": {
   "codemirror_mode": {
    "name": "ipython",
    "version": 3
   },
   "file_extension": ".py",
   "mimetype": "text/x-python",
   "name": "python",
   "nbconvert_exporter": "python",
   "pygments_lexer": "ipython3",
   "version": "3.10.6"
  },
  "nbsphinx": {
   "execute": "never"
  },
  "vscode": {
   "interpreter": {
    "hash": "991f379ab7c22baf16a27df0056e2dbcaf4f3c0ece649d8844d1cda92f96c610"
   }
  }
 },
 "nbformat": 4,
 "nbformat_minor": 4
}
