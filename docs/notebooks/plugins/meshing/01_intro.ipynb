{
 "cells": [
  {
   "cell_type": "markdown",
   "metadata": {},
   "source": [
    "# Meshing introduction\n",
    "\n",
    "gdsfactory has interfaces to external meshers (currently: [gmsh](https://gmsh.info/)).\n",
    "\n",
    "Using a gdsfactory `Component` and a `Layerstack` reflecting the post-fabrication structure, you can automatically generate a 2D or 3D mesh suitable for physical simulation.\n",
    "\n",
    "Within gdsfactory, this interface is currently used for:\n",
    "\n",
    "* [finite-volume](https://en.wikipedia.org/wiki/Finite_volume_method) simulation through a [DEVSIM](https://devsim.org/) plugin, for e.g. TCAD simulations\n",
    "* [finite-element](https://en.wikipedia.org/wiki/Finite_element_method) simulation through the [femwell](https://github.com/HelgeGehring/femwell) wrapper around [scikit-fem](https://scikit-fem.readthedocs.io/en/latest/), for e.g. mode solving and thermal simulations\n",
    "\n",
    "Current features include:\n",
    "\n",
    "* GDS postprocessing -- common interface for layout and simulation\n",
    "* A generic shapely <--> gmsh translator, which properly reuses gmsh objects, resulting in conformal handling of\n",
    "    * lateral interfaces\n",
    "    * vertical interfaces\n",
    "    * polygon inclusions\n",
    "    * polygon \"holes\"\n",
    "* 2D meshing of in-plane cross-sections (e.g. x - y)\n",
    "* 2D meshing of out-of-plane cross-sections (e.g. arbitrary xy line - z)\n",
    "* (In progress) 3D meshing\n",
    "* The mesh is returned tagged with LayerStack `label` for each GDS layer according to a specific `mesh_order`\n",
    "* All interfaces between layer entities are also tagged as `label1___label2` to e.g. implement interfacial boundary conditions\n",
    "* Dummy layers can be easily introduced in a component to provide extra lines and polygons with custom labels to e.g. implement boundary conditions, sources, etc.\n",
    "* Coarse resolution setting per label, and around interfaces\n",
    "* Fine resolution setting with callable `[x,y,z,mesh_size]` functions (useful for simulation-driven refinement)\n",
    "\n",
    "### Philosophy\n",
    "\n",
    "GMSH can be used one of two ways:\n",
    "\n",
    "* The traditional “bottom-up” way, where the user manually defines points, then line segments (from points), then lines (from segments), then closed curves (from lines), then surfaces (from curves), then closed shells (from surfaces), and finally volumes (from shells).\n",
    "* With CAD-type boolean operations (set operations on objects)\n",
    "\n",
    "While the latter method is much simpler for complex geometries, as of 2022 it does not preserve physical and mesh information, requiring manual \"retagging\" of the entities after the boolean operations, and driving its complexity back to bottom-up construction (especially for arbitrary geometries).\n",
    "\n",
    "As such, gdsfactory uses the first approach, where the mask layers and a layerstack are used as a guide to define the various physical entities, which are returned as tagged objects to the user.\n",
    "\n",
    "## Prerequisites\n",
    "\n",
    "You can install the meshing plugins with `pip install gdsfactory[gmsh]`.\n",
    "\n",
    "Note that PyVista may not work properly on headless systems."
   ]
  },
  {
   "cell_type": "markdown",
   "metadata": {},
   "source": [
    "## Usage\n",
    "\n",
    "First, start with a gdsfactory `Component`"
   ]
  },
  {
   "cell_type": "code",
   "execution_count": null,
   "metadata": {},
   "outputs": [],
   "source": [
    "import gdsfactory as gf\n",
    "\n",
    "waveguide = gf.components.straight_pin(length=10, taper=None)\n",
    "waveguide"
   ]
  },
  {
   "cell_type": "markdown",
   "metadata": {},
   "source": [
    "and a `LayerStack`. Here, we copy the example from `gdsfactory.tech` for clarity). The `info` dict contains miscellaneous information about the layers, including `mesh_order`, which determines which layer will appear in the mesh if layers overlap."
   ]
  },
  {
   "cell_type": "code",
   "execution_count": null,
   "metadata": {},
   "outputs": [],
   "source": [
    "from gdsfactory.tech import LayerMap, LayerStack, LayerLevel\n",
    "\n",
    "LAYER = LayerMap()\n",
    "nm = 1e-3\n",
    "\n",
    "\n",
    "def get_layer_stack_generic(\n",
    "    thickness_wg: float = 220 * nm,\n",
    "    thickness_slab_deep_etch: float = 90 * nm,\n",
    "    thickness_clad: float = 3.0,\n",
    "    thickness_nitride: float = 350 * nm,\n",
    "    thickness_ge: float = 500 * nm,\n",
    "    gap_silicon_to_nitride: float = 100 * nm,\n",
    "    zmin_heater: float = 1.1,\n",
    "    zmin_metal1: float = 1.1,\n",
    "    thickness_metal1: float = 700 * nm,\n",
    "    zmin_metal2: float = 2.3,\n",
    "    thickness_metal2: float = 700 * nm,\n",
    "    zmin_metal3: float = 3.2,\n",
    "    thickness_metal3: float = 2000 * nm,\n",
    ") -> LayerStack:\n",
    "    \"\"\"Returns generic LayerStack.\n",
    "\n",
    "    based on paper https://www.degruyter.com/document/doi/10.1515/nanoph-2013-0034/html\n",
    "\n",
    "    Args:\n",
    "        thickness_wg: waveguide thickness in um.\n",
    "        thickness_slab_deep_etch: for deep etched slab.\n",
    "        thickness_clad: cladding thickness in um.\n",
    "        thickness_nitride: nitride thickness in um.\n",
    "        thickness_ge: germanium thickness.\n",
    "        gap_silicon_to_nitride: distance from silicon to nitride in um.\n",
    "        zmin_heater: TiN heater.\n",
    "        zmin_metal1: metal1.\n",
    "        thickness_metal1: metal1 thickness.\n",
    "        zmin_metal2: metal2.\n",
    "        thickness_metal2: metal2 thickness.\n",
    "        zmin_metal3: metal3.\n",
    "        thickness_metal3: metal3 thickness.\n",
    "    \"\"\"\n",
    "    return LayerStack(\n",
    "        layers=dict(\n",
    "            core=LayerLevel(\n",
    "                layer=LAYER.WG,\n",
    "                thickness=thickness_wg,\n",
    "                zmin=0.0,\n",
    "                material=\"si\",\n",
    "                info={\"mesh_order\": 1},\n",
    "            ),\n",
    "            clad=LayerLevel(\n",
    "                layer=LAYER.WGCLAD,\n",
    "                zmin=0.0,\n",
    "                material=\"sio2\",\n",
    "                thickness=thickness_clad,\n",
    "                info={\"mesh_order\": 10},\n",
    "            ),\n",
    "            slab150=LayerLevel(\n",
    "                layer=LAYER.SLAB150,\n",
    "                thickness=150e-3,\n",
    "                zmin=0,\n",
    "                material=\"si\",\n",
    "                info={\"mesh_order\": 3},\n",
    "            ),\n",
    "            slab90=LayerLevel(\n",
    "                layer=LAYER.SLAB90,\n",
    "                thickness=thickness_slab_deep_etch,\n",
    "                zmin=0.0,\n",
    "                material=\"si\",\n",
    "                info={\"mesh_order\": 2},\n",
    "            ),\n",
    "            nitride=LayerLevel(\n",
    "                layer=LAYER.WGN,\n",
    "                thickness=thickness_nitride,\n",
    "                zmin=thickness_wg + gap_silicon_to_nitride,\n",
    "                material=\"sin\",\n",
    "                info={\"mesh_order\": 2},\n",
    "            ),\n",
    "            ge=LayerLevel(\n",
    "                layer=LAYER.GE,\n",
    "                thickness=thickness_ge,\n",
    "                zmin=thickness_wg,\n",
    "                material=\"ge\",\n",
    "                info={\"mesh_order\": 1},\n",
    "            ),\n",
    "            via_contact=LayerLevel(\n",
    "                layer=LAYER.VIAC,\n",
    "                thickness=zmin_metal1 - thickness_slab_deep_etch,\n",
    "                zmin=thickness_slab_deep_etch,\n",
    "                material=\"Aluminum\",\n",
    "                info={\"mesh_order\": 1},\n",
    "            ),\n",
    "            metal1=LayerLevel(\n",
    "                layer=LAYER.M1,\n",
    "                thickness=thickness_metal1,\n",
    "                zmin=zmin_metal1,\n",
    "                material=\"Aluminum\",\n",
    "                info={\"mesh_order\": 2},\n",
    "            ),\n",
    "            heater=LayerLevel(\n",
    "                layer=LAYER.HEATER,\n",
    "                thickness=750e-3,\n",
    "                zmin=zmin_heater,\n",
    "                material=\"TiN\",\n",
    "                info={\"mesh_order\": 1},\n",
    "            ),\n",
    "            via1=LayerLevel(\n",
    "                layer=LAYER.VIA1,\n",
    "                thickness=zmin_metal2 - (zmin_metal1 + thickness_metal1),\n",
    "                zmin=zmin_metal1 + thickness_metal1,\n",
    "                material=\"Aluminum\",\n",
    "                info={\"mesh_order\": 2},\n",
    "            ),\n",
    "            metal2=LayerLevel(\n",
    "                layer=LAYER.M2,\n",
    "                thickness=thickness_metal2,\n",
    "                zmin=zmin_metal2,\n",
    "                material=\"Aluminum\",\n",
    "                info={\"mesh_order\": 2},\n",
    "            ),\n",
    "            via2=LayerLevel(\n",
    "                layer=LAYER.VIA2,\n",
    "                thickness=zmin_metal3 - (zmin_metal2 + thickness_metal2),\n",
    "                zmin=zmin_metal2 + thickness_metal2,\n",
    "                material=\"Aluminum\",\n",
    "                info={\"mesh_order\": 1},\n",
    "            ),\n",
    "            metal3=LayerLevel(\n",
    "                layer=LAYER.M3,\n",
    "                thickness=thickness_metal3,\n",
    "                zmin=zmin_metal3,\n",
    "                material=\"Aluminum\",\n",
    "                info={\"mesh_order\": 2},\n",
    "            ),\n",
    "        )\n",
    "    )"
   ]
  },
  {
   "cell_type": "markdown",
   "metadata": {},
   "source": [
    "We can filter this stack to only focus on some layers:"
   ]
  },
  {
   "cell_type": "code",
   "execution_count": null,
   "metadata": {},
   "outputs": [],
   "source": [
    "filtered_layerstack = LayerStack(\n",
    "    layers={\n",
    "        k: get_layer_stack_generic().layers[k]\n",
    "        for k in (\n",
    "            \"slab90\",\n",
    "            \"core\",\n",
    "            \"via_contact\",\n",
    "        )\n",
    "    }\n",
    ")"
   ]
  },
  {
   "cell_type": "code",
   "execution_count": null,
   "metadata": {},
   "outputs": [],
   "source": [
    "scene = waveguide.to_3d(layer_stack=filtered_layerstack)\n",
    "scene.show()"
   ]
  },
  {
   "cell_type": "markdown",
   "metadata": {},
   "source": [
    "The various processing and meshing functions are located under `gdsfactory.simulation.gmsh` and can be called from there, but a shortcut is implemented to mesh directly from a component:"
   ]
  },
  {
   "cell_type": "code",
   "execution_count": null,
   "metadata": {},
   "outputs": [],
   "source": [
    "mesh = waveguide.to_gmsh(\n",
    "    type=\"xy\", z=0.09, layer_stack=filtered_layerstack, filename=\"mesh.msh\"\n",
    ")"
   ]
  },
  {
   "cell_type": "markdown",
   "metadata": {},
   "source": [
    "This returns a gmsh `.msh` mesh, also saved in `filename` if provided, which can be processed:"
   ]
  },
  {
   "cell_type": "code",
   "execution_count": null,
   "metadata": {},
   "outputs": [],
   "source": [
    "mesh.get_cells_type(\"triangle\")"
   ]
  },
  {
   "cell_type": "markdown",
   "metadata": {},
   "source": [
    "The `gmsh` GUI can be used to load and inspect the `.msh` file:\n",
    "\n",
    "![msh mesh](https://imgur.com/jzwjEVC.png)"
   ]
  },
  {
   "cell_type": "markdown",
   "metadata": {},
   "source": [
    "[meshio](https://github.com/nschloe/meshio) can also be used to convert the `.msh` to another arbitrary format, to observe for instance with `Paraview`. This is useful, for instance to preprocess the `msh` file using the `create_mesh` utility in order to consolidate entities with the same label:"
   ]
  },
  {
   "cell_type": "code",
   "execution_count": null,
   "metadata": {},
   "outputs": [],
   "source": [
    "from gdsfactory.simulation.gmsh.mesh import create_physical_mesh\n",
    "import meshio\n",
    "\n",
    "mesh_from_file = meshio.read(\"mesh.msh\")\n",
    "\n",
    "triangle_mesh = create_physical_mesh(mesh_from_file, \"triangle\", prune_z=True)\n",
    "meshio.write(\"mesh.xdmf\", triangle_mesh)"
   ]
  },
  {
   "cell_type": "markdown",
   "metadata": {},
   "source": [
    "Opening the `mesh.xdmf` in paraview:\n",
    "\n",
    "![](https://imgur.com/zBn5596.png)"
   ]
  },
  {
   "cell_type": "code",
   "execution_count": null,
   "metadata": {},
   "outputs": [],
   "source": [
    "line_mesh = create_physical_mesh(mesh_from_file, \"line\", prune_z=True)\n",
    "meshio.write(\"facet_mesh.xdmf\", line_mesh)"
   ]
  },
  {
   "cell_type": "markdown",
   "metadata": {},
   "source": [
    "Opening the `facet_mesh.xdmf` in paraview:\n",
    "\n",
    "![](https://imgur.com/tNhIIPK.png)"
   ]
  },
  {
   "cell_type": "markdown",
   "metadata": {},
   "source": [
    "The `xdmf` files with consolidated physical groups can also be opened dynamically in a notebook with `pyvista`:"
   ]
  },
  {
   "cell_type": "code",
   "execution_count": null,
   "metadata": {},
   "outputs": [],
   "source": [
    "import pyvista as pv\n",
    "\n",
    "mesh = pv.read(\"mesh.xdmf\")\n",
    "\n",
    "plotter = pv.Plotter()\n",
    "plotter.add_mesh(triangle_mesh, style=\"wireframe\", show_scalar_bar=False)\n",
    "plotter.show_grid()\n",
    "plotter.camera_position = \"xy\"\n",
    "plotter.show()"
   ]
  },
  {
   "cell_type": "code",
   "execution_count": null,
   "metadata": {},
   "outputs": [],
   "source": []
  }
 ],
 "metadata": {
  "kernelspec": {
   "display_name": "Python 3 (ipykernel)",
   "language": "python",
   "name": "python3"
  },
  "language_info": {
   "codemirror_mode": {
    "name": "ipython",
    "version": 3
   },
   "file_extension": ".py",
   "mimetype": "text/x-python",
   "name": "python",
   "nbconvert_exporter": "python",
   "pygments_lexer": "ipython3",
   "version": "3.10.8"
  },
  "nbsphinx": {
   "execute": "never"
  },
  "vscode": {
   "interpreter": {
    "hash": "991f379ab7c22baf16a27df0056e2dbcaf4f3c0ece649d8844d1cda92f96c610"
   }
  }
 },
 "nbformat": 4,
 "nbformat_minor": 4
}
