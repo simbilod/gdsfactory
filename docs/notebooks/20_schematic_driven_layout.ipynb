{
 "cells": [
  {
   "cell_type": "markdown",
   "id": "9c666b41-91a4-4e70-827c-62998e49bb2b",
   "metadata": {},
   "source": [
    "# Schematic Driven layout\n",
    "\n",
    "The Schematic driven layout uses a schematic format similar to our `*.pic.yml`.\n",
    "\n",
    "The Jupyter notebook interface allows you to get the best of both worlds of GUI and python driven based flows."
   ]
  },
  {
   "cell_type": "code",
   "execution_count": null,
   "id": "a0571225-d483-43cd-b487-816daa35118b",
   "metadata": {},
   "outputs": [],
   "source": [
    "from bokeh.io import output_notebook\n",
    "\n",
    "import gdsfactory as gf\n",
    "from gdsfactory.schematic_editor import SchematicEditor\n",
    "from gdsfactory.config import rich_output\n",
    "\n",
    "%env BOKEH_ALLOW_WS_ORIGIN=localhost:8888\n",
    "\n",
    "output_notebook()\n",
    "rich_output()"
   ]
  },
  {
   "cell_type": "markdown",
   "id": "186155e3-7021-4b4c-86f6-94f2ca3ca78f",
   "metadata": {},
   "source": [
    "First you initialize a session of the schematic editor.\n",
    "The editor is synced to a file.\n",
    "If file exist, it loads the schematic for editing. If it does not exist, it creates it.\n",
    "The schematic file is continuously auto-saved as you edit the schematic in your notebook, so you can track changes with GIT."
   ]
  },
  {
   "cell_type": "code",
   "execution_count": null,
   "id": "d80a7a4d-4987-454e-9486-b25d15086124",
   "metadata": {},
   "outputs": [],
   "source": [
    "se = SchematicEditor(\"test.schem.yml\")"
   ]
  },
  {
   "cell_type": "markdown",
   "id": "7ec0e5d8-216c-4116-8d1a-8899c67cf7ce",
   "metadata": {},
   "source": [
    "## Define instances\n",
    "\n",
    "First you need to define which instances to include. We do this through this grid-like editor.\n",
    "Components are auto-populated from your active PDK.\n",
    "\n",
    "instance name | Component type\n",
    "--------------| --------------\n",
    "mmi1          | mmi1x2"
   ]
  },
  {
   "cell_type": "code",
   "execution_count": null,
   "id": "9265996e-4a44-45d8-9f01-545874e2ed0a",
   "metadata": {},
   "outputs": [],
   "source": [
    "se.instance_widget"
   ]
  },
  {
   "cell_type": "code",
   "execution_count": null,
   "id": "8f537be4-2d5c-4028-8d8a-5ec1d27ca5b4",
   "metadata": {},
   "outputs": [],
   "source": [
    "se.instances.keys()"
   ]
  },
  {
   "cell_type": "markdown",
   "id": "d957be8b-d3b6-4599-8263-6b9e79a68a72",
   "metadata": {},
   "source": [
    "You can also **add your instances through code**, and since it is just a dictionary update, *the integrity of your schematic will be maintained, even after re-running the notebook* as-is.\n",
    "You can here specify a component either by name or as an actual component, using auto-completion to specify your settings as well."
   ]
  },
  {
   "cell_type": "code",
   "execution_count": null,
   "id": "42248730-eb8c-4a28-bae8-8dd6fe0a66f6",
   "metadata": {},
   "outputs": [],
   "source": [
    "se.add_instance(\"s1\", gf.components.straight(length=20))\n",
    "se.add_instance(\"s2\", gf.components.straight(length=40))"
   ]
  },
  {
   "cell_type": "markdown",
   "id": "7de00ced-064a-44c6-9192-fce66c633a15",
   "metadata": {},
   "source": [
    "But you can even query the parameters of default components, set only by name through the widget grid, like so:"
   ]
  },
  {
   "cell_type": "code",
   "execution_count": null,
   "id": "5ff026fb-516c-4cc7-a121-34d4359618d4",
   "metadata": {},
   "outputs": [],
   "source": [
    "se.instances[\"mmi1\"].settings.full"
   ]
  },
  {
   "cell_type": "markdown",
   "id": "ea666c75-5a90-4762-bd5e-cf8c270a3651",
   "metadata": {},
   "source": [
    "It is also possible to *instantiate through the widget, then set the settings of our component later, through code.*\n",
    "\n",
    "By doing this through code, we have the full power of python at our disposal to easily use shared variables between components, or set complex Class or dictionary-based settings, without fumbling through a UI."
   ]
  },
  {
   "cell_type": "code",
   "execution_count": null,
   "id": "b2eb5f85-d780-4e97-95b1-7e92f434c36b",
   "metadata": {},
   "outputs": [],
   "source": [
    "se.update_settings(\"mmi1\", gap_mmi=1.0)\n",
    "se.update_settings(\"mmi2\", gap_mmi=0.7)\n",
    "\n",
    "for inst_name, inst in se.instances.items():\n",
    "    if inst.settings.changed:\n",
    "        print(f\"{inst_name}: {inst.settings.changed}\")"
   ]
  },
  {
   "cell_type": "markdown",
   "id": "ab1ce930-5d29-46aa-bac9-96181f0c487a",
   "metadata": {},
   "source": [
    "## Define nets\n",
    "\n",
    "Now, you define your logical connections between instances in your netlist. Each row in the grid represents one logical connection."
   ]
  },
  {
   "cell_type": "code",
   "execution_count": null,
   "id": "81b60c24-fee6-4a1e-b818-e9228148a35c",
   "metadata": {},
   "outputs": [],
   "source": [
    "se.net_widget"
   ]
  },
  {
   "cell_type": "markdown",
   "id": "919ba6dc-5e2f-44a2-98c3-c2abd1a5c7c1",
   "metadata": {},
   "source": [
    "Similarly, you can programmatically add nets.\n",
    "Adding a net which already exists will have no effect, such that the notebook can be rerun without consequence.\n",
    "However, trying to connect to a port which is already otherwise connected will throw an error."
   ]
  },
  {
   "cell_type": "code",
   "execution_count": null,
   "id": "36d4182b-c670-41b4-8ff6-2f4646220f3e",
   "metadata": {},
   "outputs": [],
   "source": [
    "se.add_net(\n",
    "    inst1=\"mmi1\", port1=\"o2\", inst2=\"s1\", port2=\"o1\"\n",
    ")  # can be re-run without consequence\n",
    "se.add_net(inst1=\"s1\", port1=\"o1\", inst2=\"mmi1\", port2=\"o2\")  # also ok\n",
    "# se.add_net(inst1=\"s1\", port1=\"o2\", inst2=\"mmi1\", port2=\"o2\")  # throws error -- already connected to a different port"
   ]
  },
  {
   "cell_type": "code",
   "execution_count": null,
   "id": "41ccd721",
   "metadata": {},
   "outputs": [],
   "source": [
    "se.schematic"
   ]
  },
  {
   "cell_type": "markdown",
   "id": "3549adc7-d62a-4bb2-836b-9bfdee7cc793",
   "metadata": {},
   "source": [
    "## Define ports\n",
    "\n",
    "Now, you define the Component ports following the syntax \n",
    "\n",
    "PortName | InstanceName,PortName"
   ]
  },
  {
   "cell_type": "code",
   "execution_count": null,
   "id": "6d124bbb-ec51-436b-8702-a5b71fa3ff76",
   "metadata": {},
   "outputs": [],
   "source": [
    "se.port_widget"
   ]
  },
  {
   "cell_type": "markdown",
   "id": "4ebb44ce-fe37-4609-a14e-dc5b725a355c",
   "metadata": {},
   "source": [
    "## Visualize\n",
    "\n",
    "You can visualize your schematic down below. After you've initialized the plot below, you should see it live-update after every change we make above.\n",
    "\n",
    "Currently the size of component symbols and port locations are **layout-realistic**.\n",
    "This may be a nice default if you don't care to bother making symbols for your components.\n",
    "But it would be a nice improvement for the future to allow associating symbols with components, to make the schematic easier to read.\n",
    "\n",
    "If you activate the `Point Draw Tool` in the plot, you should see that you are able to arrange components freely on the schematic, and changes are saved back to the `*.schem.yml` file in realtime.\n",
    "\n",
    "![pointdraw](https://i.imgur.com/mlfsd13.png)"
   ]
  },
  {
   "cell_type": "code",
   "execution_count": null,
   "id": "a34124a7-3f92-422b-8113-597568ca3b8a",
   "metadata": {},
   "outputs": [],
   "source": [
    "se.visualize()"
   ]
  },
  {
   "cell_type": "markdown",
   "id": "e4036ae4-c35d-412e-9ef9-f86ea6d745b5",
   "metadata": {},
   "source": [
    "## generate Layout\n",
    "\n",
    "You can use your schematic to generate a preliminary layout, and view in the notebook and/or KLayout. Initial placements come from schematic placements and Routes are auto-generated from nets."
   ]
  },
  {
   "cell_type": "code",
   "execution_count": null,
   "id": "20ef5e33-d5ac-4a30-86d8-023acfe5b887",
   "metadata": {},
   "outputs": [],
   "source": [
    "layout_filename = \"sdl_demo.pic.yml\"\n",
    "se.instantiate_layout(layout_filename, default_router=\"get_bundle\")\n",
    "c = gf.read.from_yaml(layout_filename)\n",
    "f = c.plot()"
   ]
  },
  {
   "cell_type": "code",
   "execution_count": null,
   "id": "aa309df3-98b4-469d-84aa-091f46487d29",
   "metadata": {},
   "outputs": [],
   "source": [
    "# you can save your schematic to a standalone html file once you are satisfied\n",
    "# se.save_schematic_html('demo_schem.html')"
   ]
  },
  {
   "cell_type": "markdown",
   "id": "e6bd8ec8-67b6-4375-ab07-a5deb8960522",
   "metadata": {},
   "source": [
    "## Circuit simulations"
   ]
  },
  {
   "cell_type": "code",
   "execution_count": null,
   "id": "39d74bbe-fcb5-4bf9-950e-1ca72347be68",
   "metadata": {},
   "outputs": [],
   "source": [
    "import numpy as np\n",
    "import matplotlib.pyplot as plt\n",
    "import gdsfactory.simulation.sax as gs\n",
    "import jax.numpy as jnp\n",
    "import sax\n",
    "\n",
    "netlist = c.get_netlist()\n",
    "\n",
    "models = {\n",
    "    \"bend_euler\": gs.models.bend,\n",
    "    \"mmi1x2\": gs.models.mmi1x2,\n",
    "    \"mmi2x2\": gs.models.mmi2x2,\n",
    "    \"straight\": gs.models.straight,\n",
    "}\n",
    "\n",
    "circuit, _ = sax.circuit(netlist=netlist, models=models)"
   ]
  },
  {
   "cell_type": "code",
   "execution_count": null,
   "id": "276f0df9-7343-4120-a32f-fba06e58f77e",
   "metadata": {},
   "outputs": [],
   "source": [
    "wl = np.linspace(1.5, 1.6)\n",
    "S = circuit(wl=wl)\n",
    "\n",
    "plt.figure(figsize=(14, 4))\n",
    "plt.title(\"MZI\")\n",
    "plt.plot(1e3 * wl, jnp.abs(S[\"o1\", \"o2\"]) ** 2)\n",
    "plt.xlabel(\"λ [nm]\")\n",
    "plt.ylabel(\"T\")\n",
    "plt.grid(True)\n",
    "plt.show()"
   ]
  },
  {
   "cell_type": "code",
   "execution_count": null,
   "id": "35088dbe-8d9d-4e8b-b427-42a85a70f03d",
   "metadata": {},
   "outputs": [],
   "source": []
  }
 ],
 "metadata": {
  "kernelspec": {
   "display_name": "Python 3 (ipykernel)",
   "language": "python",
   "name": "python3"
  },
  "language_info": {
   "codemirror_mode": {
    "name": "ipython",
    "version": 3
   },
   "file_extension": ".py",
   "mimetype": "text/x-python",
   "name": "python",
   "nbconvert_exporter": "python",
   "pygments_lexer": "ipython3",
   "version": "3.10.6"
  }
 },
 "nbformat": 4,
 "nbformat_minor": 5
}
