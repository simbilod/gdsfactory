{
 "cells": [
  {
   "cell_type": "markdown",
   "id": "1413f21c",
   "metadata": {},
   "source": [
    "# Finite-element mode solver\n",
    "\n",
    "You can mesh any component cross-section and solve the PDEs thanks to [femwell](https://helgegehring.github.io/femwell/intro.html) mode - solver.\n",
    "\n",
    "Unlike other mode solvers, this actually uses the component geometry instead of a hardcoded geometry.\n",
    "\n",
    "You can directly compute the modes of a Gdsfactory cross-section (internally, it defines a \"uz\" mesh  perpendicular to a straight component with the provided cross-section).\n",
    "\n",
    "You can also downsample layers from the LayerStack, and modify both the cross-section and LayerStack  prior to simulation to change the geometry. You can also define refractive indices on the active PDK."
   ]
  },
  {
   "cell_type": "code",
   "execution_count": 1,
   "id": "490fdb00-c13b-4428-877b-670a0ac3d0b9",
   "metadata": {
    "execution": {
     "iopub.execute_input": "2023-02-20T17:53:06.464206Z",
     "iopub.status.busy": "2023-02-20T17:53:06.464006Z",
     "iopub.status.idle": "2023-02-20T17:53:08.270752Z",
     "shell.execute_reply": "2023-02-20T17:53:08.270178Z"
    }
   },
   "outputs": [
    {
     "name": "stderr",
     "output_type": "stream",
     "text": [
      "2023-02-20 17:53:07.002 | INFO     | gdsfactory.config:<module>:50 - Load '/home/runner/work/gdsfactory/gdsfactory/gdsfactory' 6.43.1\n"
     ]
    },
    {
     "name": "stderr",
     "output_type": "stream",
     "text": [
      "2023-02-20 17:53:08.260 | INFO     | gdsfactory.technology.layer_views:__init__:785 - Importing LayerViews from YAML file: /home/runner/work/gdsfactory/gdsfactory/gdsfactory/generic_tech/layer_views.yaml.\n"
     ]
    },
    {
     "name": "stderr",
     "output_type": "stream",
     "text": [
      "2023-02-20 17:53:08.267 | INFO     | gdsfactory.pdk:activate:206 - 'generic' PDK is now active\n"
     ]
    }
   ],
   "source": [
    "import matplotlib.pyplot as plt\n",
    "import gdsfactory as gf\n",
    "from tqdm.auto import tqdm\n",
    "import numpy as np\n",
    "from femwell import mode_solver\n",
    "from gdsfactory.simulation.fem.mode_solver import compute_cross_section_modes\n",
    "from gdsfactory.technology import LayerStack\n",
    "from gdsfactory.cross_section import rib\n",
    "from gdsfactory.generic_tech import LAYER_STACK\n",
    "\n",
    "import sys\n",
    "import logging\n",
    "from rich.logging import RichHandler\n",
    "import gdsfactory as gf\n",
    "from gdsfactory.generic_tech import get_generic_pdk\n",
    "\n",
    "gf.config.rich_output()\n",
    "PDK = get_generic_pdk()\n",
    "PDK.activate()\n",
    "\n",
    "logger = logging.getLogger()\n",
    "logger.removeHandler(sys.stderr)\n",
    "logging.basicConfig(level=\"WARNING\", datefmt=\"[%X]\", handlers=[RichHandler()])"
   ]
  },
  {
   "cell_type": "code",
   "execution_count": 2,
   "id": "7fd24a1b-7641-4f33-880a-f4027973323d",
   "metadata": {
    "execution": {
     "iopub.execute_input": "2023-02-20T17:53:08.273510Z",
     "iopub.status.busy": "2023-02-20T17:53:08.272931Z",
     "iopub.status.idle": "2023-02-20T17:53:20.555407Z",
     "shell.execute_reply": "2023-02-20T17:53:20.554885Z"
    }
   },
   "outputs": [
    {
     "name": "stdout",
     "output_type": "stream",
     "text": [
      "\n"
     ]
    },
    {
     "data": {
      "text/html": [
       "<pre style=\"white-space:pre;overflow-x:auto;line-height:normal;font-family:Menlo,'DejaVu Sans Mono',consolas,'Courier New',monospace\"><span style=\"color: #7fbfbf; text-decoration-color: #7fbfbf\">[17:53:10] </span><span style=\"color: #000080; text-decoration-color: #000080\">INFO    </span> INFO:rich:Using client version: <span style=\"color: #008080; text-decoration-color: #008080; font-weight: bold\">1.8</span>.<span style=\"color: #008080; text-decoration-color: #008080; font-weight: bold\">4</span>                                           <a href=\"file:///usr/share/miniconda/envs/anaconda-client-env/lib/python3.9/site-packages/tidy3d/__init__.py\" target=\"_blank\"><span style=\"color: #7f7f7f; text-decoration-color: #7f7f7f\">__init__.py</span></a><span style=\"color: #7f7f7f; text-decoration-color: #7f7f7f\">:</span><a href=\"file:///usr/share/miniconda/envs/anaconda-client-env/lib/python3.9/site-packages/tidy3d/__init__.py#120\" target=\"_blank\"><span style=\"color: #7f7f7f; text-decoration-color: #7f7f7f\">120</span></a>\n",
       "</pre>\n"
      ],
      "text/plain": [
       "\u001b[2;36m[17:53:10]\u001b[0m\u001b[2;36m \u001b[0m\u001b[34mINFO    \u001b[0m INFO:rich:Using client version: \u001b[1;36m1.8\u001b[0m.\u001b[1;36m4\u001b[0m                                           \u001b]8;id=318103;file:///usr/share/miniconda/envs/anaconda-client-env/lib/python3.9/site-packages/tidy3d/__init__.py\u001b\\\u001b[2m__init__.py\u001b[0m\u001b]8;;\u001b\\\u001b[2m:\u001b[0m\u001b]8;id=390227;file:///usr/share/miniconda/envs/anaconda-client-env/lib/python3.9/site-packages/tidy3d/__init__.py#120\u001b\\\u001b[2m120\u001b[0m\u001b]8;;\u001b\\\n"
      ]
     },
     "metadata": {},
     "output_type": "display_data"
    },
    {
     "name": "stderr",
     "output_type": "stream",
     "text": [
      "2023-02-20 17:53:10.318 | INFO     | gdsfactory.simulation.gtidy3d:<module>:54 - Tidy3d '1.8.4' installed at ['/usr/share/miniconda/envs/anaconda-client-env/lib/python3.9/site-packages/tidy3d']\n"
     ]
    },
    {
     "name": "stderr",
     "output_type": "stream",
     "text": [
      "2023-02-20 17:53:20.552 | INFO     | gdsfactory.simulation.fem.mode_solver:compute_component_slice_modes:205 - Write mode to PosixPath('/home/runner/.gdsfactory/modes/straight_ec84fb00_a67759bd.npz')\n"
     ]
    }
   ],
   "source": [
    "filtered_layerstack = LayerStack(\n",
    "    layers={\n",
    "        k: LAYER_STACK.layers[k]\n",
    "        for k in (\n",
    "            \"core\",\n",
    "            \"clad\",\n",
    "            \"slab90\",\n",
    "            \"box\",\n",
    "        )\n",
    "    }\n",
    ")\n",
    "\n",
    "filtered_layerstack.layers[\n",
    "    \"core\"\n",
    "].thickness = 0.161  # Perturb the layerstack before simulating\n",
    "\n",
    "filtered_layerstack.layers[\n",
    "    \"slab90\"\n",
    "].thickness = 0.55  # Perturb the layerstack before simulating\n",
    "\n",
    "resolutions = {}\n",
    "resolutions[\"core\"] = {\"resolution\": 0.02, \"distance\": 2}\n",
    "resolutions[\"clad\"] = {\"resolution\": 0.2, \"distance\": 1}\n",
    "resolutions[\"box\"] = {\"resolution\": 0.2, \"distance\": 1}\n",
    "resolutions[\"slab90\"] = {\"resolution\": 0.05, \"distance\": 1}\n",
    "\n",
    "lams, basis, xs = compute_cross_section_modes(\n",
    "    cross_section=rib(width=0.6),\n",
    "    layerstack=filtered_layerstack,\n",
    "    wavelength=1.55,\n",
    "    num_modes=4,\n",
    "    resolutions=resolutions,\n",
    ")"
   ]
  },
  {
   "cell_type": "markdown",
   "id": "ae9b2b87",
   "metadata": {},
   "source": [
    "The solver returns the effective indices (lams), FEM basis functions (basis) and eigenvectors (xs):"
   ]
  },
  {
   "cell_type": "code",
   "execution_count": 3,
   "id": "8df58b39",
   "metadata": {
    "execution": {
     "iopub.execute_input": "2023-02-20T17:53:20.557946Z",
     "iopub.status.busy": "2023-02-20T17:53:20.557502Z",
     "iopub.status.idle": "2023-02-20T17:53:20.568271Z",
     "shell.execute_reply": "2023-02-20T17:53:20.567733Z"
    }
   },
   "outputs": [
    {
     "data": {
      "text/html": [
       "<pre style=\"white-space:pre;overflow-x:auto;line-height:normal;font-family:Menlo,'DejaVu Sans Mono',consolas,'Courier New',monospace\">\n",
       "<span style=\"font-weight: bold\">(</span>\n",
       "    <span style=\"color: #800080; text-decoration-color: #800080; font-weight: bold\">array</span><span style=\"font-weight: bold\">([</span><span style=\"color: #008080; text-decoration-color: #008080; font-weight: bold\">3.29578315+3.95759352e-10j</span>, <span style=\"color: #008080; text-decoration-color: #008080; font-weight: bold\">3.28939564+2.53584628e-11j</span>,\n",
       "       <span style=\"color: #008080; text-decoration-color: #008080; font-weight: bold\">3.27906765+7.14671267e-10j</span>, <span style=\"color: #008080; text-decoration-color: #008080; font-weight: bold\">3.26428387-1.66501111e-09j</span><span style=\"font-weight: bold\">])</span>,\n",
       "    <span style=\"font-weight: bold\">&lt;</span><span style=\"color: #ff00ff; text-decoration-color: #ff00ff; font-weight: bold\">skfem</span><span style=\"color: #000000; text-decoration-color: #000000\"> </span><span style=\"color: #800080; text-decoration-color: #800080; font-weight: bold\">CellBasis</span><span style=\"color: #000000; text-decoration-color: #000000; font-weight: bold\">(</span><span style=\"color: #000000; text-decoration-color: #000000\">MeshTri1, ElementComposite</span><span style=\"color: #000000; text-decoration-color: #000000; font-weight: bold\">)</span><span style=\"color: #000000; text-decoration-color: #000000\"> object</span><span style=\"font-weight: bold\">&gt;</span>\n",
       "  Number of elements: <span style=\"color: #008080; text-decoration-color: #008080; font-weight: bold\">16044</span>\n",
       "  Number of DOFs: <span style=\"color: #008080; text-decoration-color: #008080; font-weight: bold\">32255</span>\n",
       "  Size: <span style=\"color: #008080; text-decoration-color: #008080; font-weight: bold\">73930752</span> B,\n",
       "    <span style=\"color: #800080; text-decoration-color: #800080; font-weight: bold\">array</span><span style=\"font-weight: bold\">([[</span> <span style=\"color: #008080; text-decoration-color: #008080; font-weight: bold\">1.23333499e-02-2.37403103e-02j</span>,  <span style=\"color: #008080; text-decoration-color: #008080; font-weight: bold\">2.01378937e-02-3.87632004e-02j</span>,\n",
       "         <span style=\"color: #008080; text-decoration-color: #008080; font-weight: bold\">2.44243854e-02-4.70142307e-02j</span>, <span style=\"color: #808000; text-decoration-color: #808000\">...</span>,\n",
       "         <span style=\"color: #008080; text-decoration-color: #008080; font-weight: bold\">1.70411472e-10+2.17038514e-12j</span>,  <span style=\"color: #008080; text-decoration-color: #008080; font-weight: bold\">1.89787839e-06+9.85956904e-07j</span>,\n",
       "        <span style=\"color: #008080; text-decoration-color: #008080; font-weight: bold\">-1.15565799e-06-6.00378400e-07j</span><span style=\"font-weight: bold\">]</span>,\n",
       "       <span style=\"font-weight: bold\">[</span> <span style=\"color: #008080; text-decoration-color: #008080; font-weight: bold\">2.27951906e-01-3.41630606e-02j</span>,  <span style=\"color: #008080; text-decoration-color: #008080; font-weight: bold\">4.32040250e-01-6.47497255e-02j</span>,\n",
       "         <span style=\"color: #008080; text-decoration-color: #008080; font-weight: bold\">5.83742986e-01-8.74853784e-02j</span>, <span style=\"color: #808000; text-decoration-color: #808000\">...</span>,\n",
       "         <span style=\"color: #008080; text-decoration-color: #008080; font-weight: bold\">1.13119749e-10+1.09701783e-10j</span>,  <span style=\"color: #008080; text-decoration-color: #008080; font-weight: bold\">4.08988232e-07+2.72898615e-06j</span>,\n",
       "        <span style=\"color: #008080; text-decoration-color: #008080; font-weight: bold\">-2.61021938e-07-1.74162880e-06j</span><span style=\"font-weight: bold\">]</span>,\n",
       "       <span style=\"font-weight: bold\">[</span> <span style=\"color: #008080; text-decoration-color: #008080; font-weight: bold\">7.70417331e-02+1.45411136e-01j</span>,  <span style=\"color: #008080; text-decoration-color: #008080; font-weight: bold\">1.36877709e-01+2.58347596e-01j</span>,\n",
       "         <span style=\"color: #008080; text-decoration-color: #008080; font-weight: bold\">1.74440969e-01+3.29245779e-01j</span>, <span style=\"color: #808000; text-decoration-color: #808000\">...</span>,\n",
       "         <span style=\"color: #008080; text-decoration-color: #008080; font-weight: bold\">1.25227234e-09-1.90422992e-10j</span>,  <span style=\"color: #008080; text-decoration-color: #008080; font-weight: bold\">1.25939074e-06-6.67100600e-07j</span>,\n",
       "        <span style=\"color: #008080; text-decoration-color: #008080; font-weight: bold\">-9.51996695e-07+5.04126029e-07j</span><span style=\"font-weight: bold\">]</span>,\n",
       "       <span style=\"font-weight: bold\">[</span> <span style=\"color: #008080; text-decoration-color: #008080; font-weight: bold\">1.06922830e-01-3.85569037e-01j</span>,  <span style=\"color: #008080; text-decoration-color: #008080; font-weight: bold\">2.05487674e-01-7.40998116e-01j</span>,\n",
       "         <span style=\"color: #008080; text-decoration-color: #008080; font-weight: bold\">2.81250078e-01-1.01420051e+00j</span>, <span style=\"color: #808000; text-decoration-color: #808000\">...</span>,\n",
       "         <span style=\"color: #008080; text-decoration-color: #008080; font-weight: bold\">4.93597374e-11+1.27406651e-10j</span>,  <span style=\"color: #008080; text-decoration-color: #008080; font-weight: bold\">9.28000614e-07+2.57533357e-07j</span>,\n",
       "        <span style=\"color: #008080; text-decoration-color: #008080; font-weight: bold\">-3.21851068e-07-8.93817135e-08j</span><span style=\"font-weight: bold\">]])</span>\n",
       "<span style=\"font-weight: bold\">)</span>\n",
       "</pre>\n"
      ],
      "text/plain": [
       "\n",
       "\u001b[1m(\u001b[0m\n",
       "    \u001b[1;35marray\u001b[0m\u001b[1m(\u001b[0m\u001b[1m[\u001b[0m\u001b[1;36m3.29578315+3.95759352e-10j\u001b[0m, \u001b[1;36m3.28939564+2.53584628e-11j\u001b[0m,\n",
       "       \u001b[1;36m3.27906765+7.14671267e-10j\u001b[0m, \u001b[1;36m3.26428387-1.66501111e-09j\u001b[0m\u001b[1m]\u001b[0m\u001b[1m)\u001b[0m,\n",
       "    \u001b[1m<\u001b[0m\u001b[1;95mskfem\u001b[0m\u001b[39m \u001b[0m\u001b[1;35mCellBasis\u001b[0m\u001b[1;39m(\u001b[0m\u001b[39mMeshTri1, ElementComposite\u001b[0m\u001b[1;39m)\u001b[0m\u001b[39m object\u001b[0m\u001b[1m>\u001b[0m\n",
       "  Number of elements: \u001b[1;36m16044\u001b[0m\n",
       "  Number of DOFs: \u001b[1;36m32255\u001b[0m\n",
       "  Size: \u001b[1;36m73930752\u001b[0m B,\n",
       "    \u001b[1;35marray\u001b[0m\u001b[1m(\u001b[0m\u001b[1m[\u001b[0m\u001b[1m[\u001b[0m \u001b[1;36m1.23333499e-02-2.37403103e-02j\u001b[0m,  \u001b[1;36m2.01378937e-02-3.87632004e-02j\u001b[0m,\n",
       "         \u001b[1;36m2.44243854e-02-4.70142307e-02j\u001b[0m, \u001b[33m...\u001b[0m,\n",
       "         \u001b[1;36m1.70411472e-10+2.17038514e-12j\u001b[0m,  \u001b[1;36m1.89787839e-06+9.85956904e-07j\u001b[0m,\n",
       "        \u001b[1;36m-1.15565799e-06-6.00378400e-07j\u001b[0m\u001b[1m]\u001b[0m,\n",
       "       \u001b[1m[\u001b[0m \u001b[1;36m2.27951906e-01-3.41630606e-02j\u001b[0m,  \u001b[1;36m4.32040250e-01-6.47497255e-02j\u001b[0m,\n",
       "         \u001b[1;36m5.83742986e-01-8.74853784e-02j\u001b[0m, \u001b[33m...\u001b[0m,\n",
       "         \u001b[1;36m1.13119749e-10+1.09701783e-10j\u001b[0m,  \u001b[1;36m4.08988232e-07+2.72898615e-06j\u001b[0m,\n",
       "        \u001b[1;36m-2.61021938e-07-1.74162880e-06j\u001b[0m\u001b[1m]\u001b[0m,\n",
       "       \u001b[1m[\u001b[0m \u001b[1;36m7.70417331e-02+1.45411136e-01j\u001b[0m,  \u001b[1;36m1.36877709e-01+2.58347596e-01j\u001b[0m,\n",
       "         \u001b[1;36m1.74440969e-01+3.29245779e-01j\u001b[0m, \u001b[33m...\u001b[0m,\n",
       "         \u001b[1;36m1.25227234e-09-1.90422992e-10j\u001b[0m,  \u001b[1;36m1.25939074e-06-6.67100600e-07j\u001b[0m,\n",
       "        \u001b[1;36m-9.51996695e-07+5.04126029e-07j\u001b[0m\u001b[1m]\u001b[0m,\n",
       "       \u001b[1m[\u001b[0m \u001b[1;36m1.06922830e-01-3.85569037e-01j\u001b[0m,  \u001b[1;36m2.05487674e-01-7.40998116e-01j\u001b[0m,\n",
       "         \u001b[1;36m2.81250078e-01-1.01420051e+00j\u001b[0m, \u001b[33m...\u001b[0m,\n",
       "         \u001b[1;36m4.93597374e-11+1.27406651e-10j\u001b[0m,  \u001b[1;36m9.28000614e-07+2.57533357e-07j\u001b[0m,\n",
       "        \u001b[1;36m-3.21851068e-07-8.93817135e-08j\u001b[0m\u001b[1m]\u001b[0m\u001b[1m]\u001b[0m\u001b[1m)\u001b[0m\n",
       "\u001b[1m)\u001b[0m\n"
      ]
     },
     "metadata": {},
     "output_type": "display_data"
    }
   ],
   "source": [
    "lams, basis, xs"
   ]
  },
  {
   "cell_type": "markdown",
   "id": "6a02fddf",
   "metadata": {},
   "source": [
    "You can use them as inputs to other [femwell mode solver functions](https://github.com/HelgeGehring/femwell/blob/main/femwell/mode_solver.py) to inspect or analyze the modes:"
   ]
  },
  {
   "cell_type": "code",
   "execution_count": 4,
   "id": "e3dca692",
   "metadata": {
    "execution": {
     "iopub.execute_input": "2023-02-20T17:53:20.571047Z",
     "iopub.status.busy": "2023-02-20T17:53:20.570713Z",
     "iopub.status.idle": "2023-02-20T17:53:23.177078Z",
     "shell.execute_reply": "2023-02-20T17:53:23.176412Z"
    }
   },
   "outputs": [
    {
     "data": {
      "image/png": "[encoded data removed]"
     },
     "metadata": {},
     "output_type": "display_data"
    }
   ],
   "source": [
    "fig = mode_solver.plot_mode(\n",
    "    basis, np.real(xs[0]), plot_vectors=False, colorbar=True, title=\"E\", direction=\"y\"\n",
    ")"
   ]
  },
  {
   "cell_type": "code",
   "execution_count": 5,
   "id": "ef4e73f1",
   "metadata": {
    "execution": {
     "iopub.execute_input": "2023-02-20T17:53:23.179935Z",
     "iopub.status.busy": "2023-02-20T17:53:23.179517Z",
     "iopub.status.idle": "2023-02-20T17:53:23.684859Z",
     "shell.execute_reply": "2023-02-20T17:53:23.684272Z"
    }
   },
   "outputs": [
    {
     "data": {
      "image/png": "[encoded data removed]"
     },
     "execution_count": 5,
     "metadata": {},
     "output_type": "execute_result"
    }
   ],
   "source": [
    "fig[0]"
   ]
  },
  {
   "cell_type": "code",
   "execution_count": 6,
   "id": "cef8fae2",
   "metadata": {
    "execution": {
     "iopub.execute_input": "2023-02-20T17:53:23.687563Z",
     "iopub.status.busy": "2023-02-20T17:53:23.687061Z",
     "iopub.status.idle": "2023-02-20T17:53:23.976568Z",
     "shell.execute_reply": "2023-02-20T17:53:23.976006Z"
    }
   },
   "outputs": [
    {
     "data": {
      "text/html": [
       "<pre style=\"white-space:pre;overflow-x:auto;line-height:normal;font-family:Menlo,'DejaVu Sans Mono',consolas,'Courier New',monospace\"><span style=\"color: #008080; text-decoration-color: #008080; font-weight: bold\">0.9994521479732367</span>\n",
       "</pre>\n"
      ],
      "text/plain": [
       "\u001b[1;36m0.9994521479732367\u001b[0m\n"
      ]
     },
     "metadata": {},
     "output_type": "display_data"
    }
   ],
   "source": [
    "te_frac = mode_solver.calculate_te_frac(basis, xs[0])\n",
    "te_frac"
   ]
  },
  {
   "cell_type": "markdown",
   "id": "c0c26422",
   "metadata": {},
   "source": [
    "## Sweep waveguide width"
   ]
  },
  {
   "cell_type": "code",
   "execution_count": 7,
   "id": "dccace3c",
   "metadata": {
    "execution": {
     "iopub.execute_input": "2023-02-20T17:53:23.979566Z",
     "iopub.status.busy": "2023-02-20T17:53:23.979017Z",
     "iopub.status.idle": "2023-02-20T17:55:01.006310Z",
     "shell.execute_reply": "2023-02-20T17:55:01.005712Z"
    }
   },
   "outputs": [
    {
     "data": {
      "application/vnd.jupyter.widget-view+json": {
       "model_id": "56bc03ce14d44f299329b75fff5d39e8",
       "version_major": 2,
       "version_minor": 0
      },
      "text/plain": [
       "  0%|          | 0/20 [00:00<?, ?it/s]"
      ]
     },
     "metadata": {},
     "output_type": "display_data"
    },
    {
     "name": "stdout",
     "output_type": "stream",
     "text": [
      "\n"
     ]
    },
    {
     "name": "stderr",
     "output_type": "stream",
     "text": [
      "2023-02-20 17:53:27.548 | INFO     | gdsfactory.simulation.fem.mode_solver:compute_component_slice_modes:205 - Write mode to PosixPath('/home/runner/.gdsfactory/modes/straight_a820b8df_3a4162ac.npz')\n"
     ]
    },
    {
     "name": "stderr",
     "output_type": "stream",
     "text": [
      "/tmp/ipykernel_10184/3803157409.py:15: ComplexWarning: Casting complex values to real discards the imaginary part\n",
      "  all_lams[i] = lams\n"
     ]
    },
    {
     "name": "stdout",
     "output_type": "stream",
     "text": [
      "\n"
     ]
    },
    {
     "name": "stderr",
     "output_type": "stream",
     "text": [
      "2023-02-20 17:53:31.913 | INFO     | gdsfactory.simulation.fem.mode_solver:compute_component_slice_modes:205 - Write mode to PosixPath('/home/runner/.gdsfactory/modes/straight_9c4caf64_8acad2d0.npz')\n"
     ]
    },
    {
     "name": "stderr",
     "output_type": "stream",
     "text": [
      "/tmp/ipykernel_10184/3803157409.py:15: ComplexWarning: Casting complex values to real discards the imaginary part\n",
      "  all_lams[i] = lams\n"
     ]
    },
    {
     "name": "stdout",
     "output_type": "stream",
     "text": [
      "\n"
     ]
    },
    {
     "name": "stderr",
     "output_type": "stream",
     "text": [
      "2023-02-20 17:53:36.148 | INFO     | gdsfactory.simulation.fem.mode_solver:compute_component_slice_modes:205 - Write mode to PosixPath('/home/runner/.gdsfactory/modes/straight_9e0af5c9_58f735f6.npz')\n"
     ]
    },
    {
     "name": "stderr",
     "output_type": "stream",
     "text": [
      "/tmp/ipykernel_10184/3803157409.py:15: ComplexWarning: Casting complex values to real discards the imaginary part\n",
      "  all_lams[i] = lams\n"
     ]
    },
    {
     "name": "stdout",
     "output_type": "stream",
     "text": [
      "\n"
     ]
    },
    {
     "name": "stderr",
     "output_type": "stream",
     "text": [
      "2023-02-20 17:53:41.773 | INFO     | gdsfactory.simulation.fem.mode_solver:compute_component_slice_modes:205 - Write mode to PosixPath('/home/runner/.gdsfactory/modes/straight_71d89da5_46392ffd.npz')\n"
     ]
    },
    {
     "name": "stderr",
     "output_type": "stream",
     "text": [
      "/tmp/ipykernel_10184/3803157409.py:15: ComplexWarning: Casting complex values to real discards the imaginary part\n",
      "  all_lams[i] = lams\n"
     ]
    },
    {
     "name": "stdout",
     "output_type": "stream",
     "text": [
      "\n"
     ]
    },
    {
     "name": "stderr",
     "output_type": "stream",
     "text": [
      "2023-02-20 17:53:46.770 | INFO     | gdsfactory.simulation.fem.mode_solver:compute_component_slice_modes:205 - Write mode to PosixPath('/home/runner/.gdsfactory/modes/straight_b49bc07b_f723615c.npz')\n"
     ]
    },
    {
     "name": "stderr",
     "output_type": "stream",
     "text": [
      "/tmp/ipykernel_10184/3803157409.py:15: ComplexWarning: Casting complex values to real discards the imaginary part\n",
      "  all_lams[i] = lams\n"
     ]
    },
    {
     "name": "stdout",
     "output_type": "stream",
     "text": [
      "\n"
     ]
    },
    {
     "name": "stderr",
     "output_type": "stream",
     "text": [
      "2023-02-20 17:53:52.536 | INFO     | gdsfactory.simulation.fem.mode_solver:compute_component_slice_modes:205 - Write mode to PosixPath('/home/runner/.gdsfactory/modes/straight_c88829f5_bb138671.npz')\n"
     ]
    },
    {
     "name": "stderr",
     "output_type": "stream",
     "text": [
      "/tmp/ipykernel_10184/3803157409.py:15: ComplexWarning: Casting complex values to real discards the imaginary part\n",
      "  all_lams[i] = lams\n"
     ]
    },
    {
     "name": "stdout",
     "output_type": "stream",
     "text": [
      "\n"
     ]
    },
    {
     "name": "stderr",
     "output_type": "stream",
     "text": [
      "2023-02-20 17:53:58.601 | INFO     | gdsfactory.simulation.fem.mode_solver:compute_component_slice_modes:205 - Write mode to PosixPath('/home/runner/.gdsfactory/modes/straight_fa40ce69_d14a73bc.npz')\n"
     ]
    },
    {
     "name": "stderr",
     "output_type": "stream",
     "text": [
      "/tmp/ipykernel_10184/3803157409.py:15: ComplexWarning: Casting complex values to real discards the imaginary part\n",
      "  all_lams[i] = lams\n"
     ]
    },
    {
     "name": "stdout",
     "output_type": "stream",
     "text": [
      "\n"
     ]
    },
    {
     "name": "stderr",
     "output_type": "stream",
     "text": [
      "2023-02-20 17:54:03.750 | INFO     | gdsfactory.simulation.fem.mode_solver:compute_component_slice_modes:205 - Write mode to PosixPath('/home/runner/.gdsfactory/modes/straight_8d03e0f1_a29816d9.npz')\n"
     ]
    },
    {
     "name": "stderr",
     "output_type": "stream",
     "text": [
      "/tmp/ipykernel_10184/3803157409.py:15: ComplexWarning: Casting complex values to real discards the imaginary part\n",
      "  all_lams[i] = lams\n"
     ]
    },
    {
     "name": "stdout",
     "output_type": "stream",
     "text": [
      "\n"
     ]
    },
    {
     "name": "stderr",
     "output_type": "stream",
     "text": [
      "2023-02-20 17:54:07.438 | INFO     | gdsfactory.simulation.fem.mode_solver:compute_component_slice_modes:205 - Write mode to PosixPath('/home/runner/.gdsfactory/modes/straight_1651b90e_bcb33650.npz')\n"
     ]
    },
    {
     "name": "stderr",
     "output_type": "stream",
     "text": [
      "/tmp/ipykernel_10184/3803157409.py:15: ComplexWarning: Casting complex values to real discards the imaginary part\n",
      "  all_lams[i] = lams\n"
     ]
    },
    {
     "name": "stdout",
     "output_type": "stream",
     "text": [
      "\n"
     ]
    },
    {
     "name": "stderr",
     "output_type": "stream",
     "text": [
      "2023-02-20 17:54:11.257 | INFO     | gdsfactory.simulation.fem.mode_solver:compute_component_slice_modes:205 - Write mode to PosixPath('/home/runner/.gdsfactory/modes/straight_23b2062e_cf69726f.npz')\n"
     ]
    },
    {
     "name": "stderr",
     "output_type": "stream",
     "text": [
      "/tmp/ipykernel_10184/3803157409.py:15: ComplexWarning: Casting complex values to real discards the imaginary part\n",
      "  all_lams[i] = lams\n"
     ]
    },
    {
     "name": "stdout",
     "output_type": "stream",
     "text": [
      "\n"
     ]
    },
    {
     "name": "stderr",
     "output_type": "stream",
     "text": [
      "2023-02-20 17:54:14.996 | INFO     | gdsfactory.simulation.fem.mode_solver:compute_component_slice_modes:205 - Write mode to PosixPath('/home/runner/.gdsfactory/modes/straight_634dfeed_0689652f.npz')\n"
     ]
    },
    {
     "name": "stderr",
     "output_type": "stream",
     "text": [
      "/tmp/ipykernel_10184/3803157409.py:15: ComplexWarning: Casting complex values to real discards the imaginary part\n",
      "  all_lams[i] = lams\n"
     ]
    },
    {
     "name": "stdout",
     "output_type": "stream",
     "text": [
      "\n"
     ]
    },
    {
     "name": "stderr",
     "output_type": "stream",
     "text": [
      "2023-02-20 17:54:19.123 | INFO     | gdsfactory.simulation.fem.mode_solver:compute_component_slice_modes:205 - Write mode to PosixPath('/home/runner/.gdsfactory/modes/straight_47a47488_7be5ed29.npz')\n"
     ]
    },
    {
     "name": "stderr",
     "output_type": "stream",
     "text": [
      "/tmp/ipykernel_10184/3803157409.py:15: ComplexWarning: Casting complex values to real discards the imaginary part\n",
      "  all_lams[i] = lams\n"
     ]
    },
    {
     "name": "stdout",
     "output_type": "stream",
     "text": [
      "\n"
     ]
    },
    {
     "name": "stderr",
     "output_type": "stream",
     "text": [
      "2023-02-20 17:54:23.549 | INFO     | gdsfactory.simulation.fem.mode_solver:compute_component_slice_modes:205 - Write mode to PosixPath('/home/runner/.gdsfactory/modes/straight_1a25b7c9_ebfb7cc4.npz')\n"
     ]
    },
    {
     "name": "stderr",
     "output_type": "stream",
     "text": [
      "/tmp/ipykernel_10184/3803157409.py:15: ComplexWarning: Casting complex values to real discards the imaginary part\n",
      "  all_lams[i] = lams\n"
     ]
    },
    {
     "name": "stdout",
     "output_type": "stream",
     "text": [
      "\n"
     ]
    },
    {
     "name": "stderr",
     "output_type": "stream",
     "text": [
      "2023-02-20 17:54:28.756 | INFO     | gdsfactory.simulation.fem.mode_solver:compute_component_slice_modes:205 - Write mode to PosixPath('/home/runner/.gdsfactory/modes/straight_179fa6b7_5d9097ee.npz')\n"
     ]
    },
    {
     "name": "stderr",
     "output_type": "stream",
     "text": [
      "/tmp/ipykernel_10184/3803157409.py:15: ComplexWarning: Casting complex values to real discards the imaginary part\n",
      "  all_lams[i] = lams\n"
     ]
    },
    {
     "name": "stdout",
     "output_type": "stream",
     "text": [
      "\n"
     ]
    },
    {
     "name": "stderr",
     "output_type": "stream",
     "text": [
      "2023-02-20 17:54:33.498 | INFO     | gdsfactory.simulation.fem.mode_solver:compute_component_slice_modes:205 - Write mode to PosixPath('/home/runner/.gdsfactory/modes/straight_43363074_ca6508ee.npz')\n"
     ]
    },
    {
     "name": "stderr",
     "output_type": "stream",
     "text": [
      "/tmp/ipykernel_10184/3803157409.py:15: ComplexWarning: Casting complex values to real discards the imaginary part\n",
      "  all_lams[i] = lams\n"
     ]
    },
    {
     "name": "stdout",
     "output_type": "stream",
     "text": [
      "\n"
     ]
    },
    {
     "name": "stderr",
     "output_type": "stream",
     "text": [
      "2023-02-20 17:54:38.403 | INFO     | gdsfactory.simulation.fem.mode_solver:compute_component_slice_modes:205 - Write mode to PosixPath('/home/runner/.gdsfactory/modes/straight_b5beed40_ba2a403c.npz')\n"
     ]
    },
    {
     "name": "stderr",
     "output_type": "stream",
     "text": [
      "/tmp/ipykernel_10184/3803157409.py:15: ComplexWarning: Casting complex values to real discards the imaginary part\n",
      "  all_lams[i] = lams\n"
     ]
    },
    {
     "name": "stdout",
     "output_type": "stream",
     "text": [
      "\n"
     ]
    },
    {
     "name": "stderr",
     "output_type": "stream",
     "text": [
      "2023-02-20 17:54:43.565 | INFO     | gdsfactory.simulation.fem.mode_solver:compute_component_slice_modes:205 - Write mode to PosixPath('/home/runner/.gdsfactory/modes/straight_945aecf7_16d955d5.npz')\n"
     ]
    },
    {
     "name": "stderr",
     "output_type": "stream",
     "text": [
      "/tmp/ipykernel_10184/3803157409.py:15: ComplexWarning: Casting complex values to real discards the imaginary part\n",
      "  all_lams[i] = lams\n"
     ]
    },
    {
     "name": "stdout",
     "output_type": "stream",
     "text": [
      "\n"
     ]
    },
    {
     "name": "stderr",
     "output_type": "stream",
     "text": [
      "2023-02-20 17:54:49.019 | INFO     | gdsfactory.simulation.fem.mode_solver:compute_component_slice_modes:205 - Write mode to PosixPath('/home/runner/.gdsfactory/modes/straight_9ef97b27_f1f136a7.npz')\n"
     ]
    },
    {
     "name": "stderr",
     "output_type": "stream",
     "text": [
      "/tmp/ipykernel_10184/3803157409.py:15: ComplexWarning: Casting complex values to real discards the imaginary part\n",
      "  all_lams[i] = lams\n"
     ]
    },
    {
     "name": "stdout",
     "output_type": "stream",
     "text": [
      "\n"
     ]
    },
    {
     "name": "stderr",
     "output_type": "stream",
     "text": [
      "2023-02-20 17:54:54.758 | INFO     | gdsfactory.simulation.fem.mode_solver:compute_component_slice_modes:205 - Write mode to PosixPath('/home/runner/.gdsfactory/modes/straight_6533d1d2_1a8922b7.npz')\n"
     ]
    },
    {
     "name": "stderr",
     "output_type": "stream",
     "text": [
      "/tmp/ipykernel_10184/3803157409.py:15: ComplexWarning: Casting complex values to real discards the imaginary part\n",
      "  all_lams[i] = lams\n"
     ]
    },
    {
     "name": "stdout",
     "output_type": "stream",
     "text": [
      "\n"
     ]
    },
    {
     "name": "stderr",
     "output_type": "stream",
     "text": [
      "2023-02-20 17:55:00.446 | INFO     | gdsfactory.simulation.fem.mode_solver:compute_component_slice_modes:205 - Write mode to PosixPath('/home/runner/.gdsfactory/modes/straight_1c7718c1_791777d1.npz')\n"
     ]
    },
    {
     "name": "stderr",
     "output_type": "stream",
     "text": [
      "/tmp/ipykernel_10184/3803157409.py:15: ComplexWarning: Casting complex values to real discards the imaginary part\n",
      "  all_lams[i] = lams\n"
     ]
    }
   ],
   "source": [
    "widths = np.linspace(0.2, 2, 20)\n",
    "num_modes = 4\n",
    "all_lams = np.zeros((widths.shape[0], num_modes))\n",
    "all_te_fracs = np.zeros((widths.shape[0], num_modes))\n",
    "\n",
    "for i, width in enumerate(tqdm(widths)):\n",
    "    lams, basis, xs = compute_cross_section_modes(\n",
    "        cross_section=gf.cross_section.strip(width=width),\n",
    "        layerstack=filtered_layerstack,\n",
    "        wavelength=1.55,\n",
    "        num_modes=num_modes,\n",
    "        resolutions=resolutions,\n",
    "        wafer_padding=2,\n",
    "    )\n",
    "    all_lams[i] = lams\n",
    "    all_te_fracs[i, :] = [\n",
    "        mode_solver.calculate_te_frac(basis, xs[idx]) for idx in range(num_modes)\n",
    "    ]"
   ]
  },
  {
   "cell_type": "code",
   "execution_count": 8,
   "id": "1d68931e",
   "metadata": {
    "execution": {
     "iopub.execute_input": "2023-02-20T17:55:01.008795Z",
     "iopub.status.busy": "2023-02-20T17:55:01.008446Z",
     "iopub.status.idle": "2023-02-20T17:55:01.180049Z",
     "shell.execute_reply": "2023-02-20T17:55:01.179477Z"
    }
   },
   "outputs": [
    {
     "data": {
      "image/png": "[encoded data removed]"
     },
     "metadata": {},
     "output_type": "display_data"
    }
   ],
   "source": [
    "all_lams = np.real(all_lams)\n",
    "plt.xlabel(\"waveguide Width [µm]\")\n",
    "plt.ylabel(\"Effective refractive index\")\n",
    "plt.ylim(1.444, np.max(all_lams) + 0.1 * (np.max(all_lams) - 1.444))\n",
    "\n",
    "for lams, te_fracs in zip(all_lams.T, all_te_fracs.T):\n",
    "    plt.plot(widths, lams)\n",
    "    plt.scatter(widths, lams, c=te_fracs, cmap=\"cool\")"
   ]
  },
  {
   "cell_type": "code",
   "execution_count": null,
   "id": "15fb0b38-ce20-419f-b6e7-839215920191",
   "metadata": {},
   "outputs": [],
   "source": []
  }
 ],
 "metadata": {
  "kernelspec": {
   "display_name": "Python 3 (ipykernel)",
   "language": "python",
   "name": "python3"
  },
  "language_info": {
   "codemirror_mode": {
    "name": "ipython",
    "version": 3
   },
   "file_extension": ".py",
   "mimetype": "text/x-python",
   "name": "python",
   "nbconvert_exporter": "python",
   "pygments_lexer": "ipython3",
   "version": "3.9.16"
  },
  "widgets": {
   "application/vnd.jupyter.widget-state+json": {
    "state": {
     "00b271c6021d4691ab9494d289be374c": {
      "model_module": "@jupyter-widgets/controls",
      "model_module_version": "2.0.0",
      "model_name": "ProgressStyleModel",
      "state": {
       "_model_module": "@jupyter-widgets/controls",
       "_model_module_version": "2.0.0",
       "_model_name": "ProgressStyleModel",
       "_view_count": null,
       "_view_module": "@jupyter-widgets/base",
       "_view_module_version": "2.0.0",
       "_view_name": "StyleView",
       "bar_color": null,
       "description_width": ""
      }
     },
     "0ee51659b36049d9a84ac89deff88a6e": {
      "model_module": "@jupyter-widgets/controls",
      "model_module_version": "2.0.0",
      "model_name": "HTMLModel",
      "state": {
       "_dom_classes": [],
       "_model_module": "@jupyter-widgets/controls",
       "_model_module_version": "2.0.0",
       "_model_name": "HTMLModel",
       "_view_count": null,
       "_view_module": "@jupyter-widgets/controls",
       "_view_module_version": "2.0.0",
       "_view_name": "HTMLView",
       "description": "",
       "description_allow_html": false,
       "layout": "IPY_MODEL_931c0dd21942447db7fbfc7ba42a6f45",
       "placeholder": "​",
       "style": "IPY_MODEL_f0cbe7f2793b45dba102998c4bdb1615",
       "tabbable": null,
       "tooltip": null,
       "value": "100%"
      }
     },
     "31962cc9fd6f4a479bc9dfe890837b61": {
      "model_module": "@jupyter-widgets/controls",
      "model_module_version": "2.0.0",
      "model_name": "HTMLStyleModel",
      "state": {
       "_model_module": "@jupyter-widgets/controls",
       "_model_module_version": "2.0.0",
       "_model_name": "HTMLStyleModel",
       "_view_count": null,
       "_view_module": "@jupyter-widgets/base",
       "_view_module_version": "2.0.0",
       "_view_name": "StyleView",
       "background": null,
       "description_width": "",
       "font_size": null,
       "text_color": null
      }
     },
     "56bc03ce14d44f299329b75fff5d39e8": {
      "model_module": "@jupyter-widgets/controls",
      "model_module_version": "2.0.0",
      "model_name": "HBoxModel",
      "state": {
       "_dom_classes": [],
       "_model_module": "@jupyter-widgets/controls",
       "_model_module_version": "2.0.0",
       "_model_name": "HBoxModel",
       "_view_count": null,
       "_view_module": "@jupyter-widgets/controls",
       "_view_module_version": "2.0.0",
       "_view_name": "HBoxView",
       "box_style": "",
       "children": [
        "IPY_MODEL_0ee51659b36049d9a84ac89deff88a6e",
        "IPY_MODEL_6f937427b71b46579c8024492ee2afa5",
        "IPY_MODEL_7ce04d49d9834bcabc91d410f7a1c905"
       ],
       "layout": "IPY_MODEL_d9384f2574c4428d8a522f6a4b851b72",
       "tabbable": null,
       "tooltip": null
      }
     },
     "6f937427b71b46579c8024492ee2afa5": {
      "model_module": "@jupyter-widgets/controls",
      "model_module_version": "2.0.0",
      "model_name": "FloatProgressModel",
      "state": {
       "_dom_classes": [],
       "_model_module": "@jupyter-widgets/controls",
       "_model_module_version": "2.0.0",
       "_model_name": "FloatProgressModel",
       "_view_count": null,
       "_view_module": "@jupyter-widgets/controls",
       "_view_module_version": "2.0.0",
       "_view_name": "ProgressView",
       "bar_style": "success",
       "description": "",
       "description_allow_html": false,
       "layout": "IPY_MODEL_befe16be8522420aa7bf9609033af6a9",
       "max": 20.0,
       "min": 0.0,
       "orientation": "horizontal",
       "style": "IPY_MODEL_00b271c6021d4691ab9494d289be374c",
       "tabbable": null,
       "tooltip": null,
       "value": 20.0
      }
     },
     "7ce04d49d9834bcabc91d410f7a1c905": {
      "model_module": "@jupyter-widgets/controls",
      "model_module_version": "2.0.0",
      "model_name": "HTMLModel",
      "state": {
       "_dom_classes": [],
       "_model_module": "@jupyter-widgets/controls",
       "_model_module_version": "2.0.0",
       "_model_name": "HTMLModel",
       "_view_count": null,
       "_view_module": "@jupyter-widgets/controls",
       "_view_module_version": "2.0.0",
       "_view_name": "HTMLView",
       "description": "",
       "description_allow_html": false,
       "layout": "IPY_MODEL_c1b58f1ae1b54b44ad54f3b7bf9eb1e6",
       "placeholder": "​",
       "style": "IPY_MODEL_31962cc9fd6f4a479bc9dfe890837b61",
       "tabbable": null,
       "tooltip": null,
       "value": " 20/20 [01:37&lt;00:00,  5.40s/it]"
      }
     },
     "931c0dd21942447db7fbfc7ba42a6f45": {
      "model_module": "@jupyter-widgets/base",
      "model_module_version": "2.0.0",
      "model_name": "LayoutModel",
      "state": {
       "_model_module": "@jupyter-widgets/base",
       "_model_module_version": "2.0.0",
       "_model_name": "LayoutModel",
       "_view_count": null,
       "_view_module": "@jupyter-widgets/base",
       "_view_module_version": "2.0.0",
       "_view_name": "LayoutView",
       "align_content": null,
       "align_items": null,
       "align_self": null,
       "border_bottom": null,
       "border_left": null,
       "border_right": null,
       "border_top": null,
       "bottom": null,
       "display": null,
       "flex": null,
       "flex_flow": null,
       "grid_area": null,
       "grid_auto_columns": null,
       "grid_auto_flow": null,
       "grid_auto_rows": null,
       "grid_column": null,
       "grid_gap": null,
       "grid_row": null,
       "grid_template_areas": null,
       "grid_template_columns": null,
       "grid_template_rows": null,
       "height": null,
       "justify_content": null,
       "justify_items": null,
       "left": null,
       "margin": null,
       "max_height": null,
       "max_width": null,
       "min_height": null,
       "min_width": null,
       "object_fit": null,
       "object_position": null,
       "order": null,
       "overflow": null,
       "padding": null,
       "right": null,
       "top": null,
       "visibility": null,
       "width": null
      }
     },
     "befe16be8522420aa7bf9609033af6a9": {
      "model_module": "@jupyter-widgets/base",
      "model_module_version": "2.0.0",
      "model_name": "LayoutModel",
      "state": {
       "_model_module": "@jupyter-widgets/base",
       "_model_module_version": "2.0.0",
       "_model_name": "LayoutModel",
       "_view_count": null,
       "_view_module": "@jupyter-widgets/base",
       "_view_module_version": "2.0.0",
       "_view_name": "LayoutView",
       "align_content": null,
       "align_items": null,
       "align_self": null,
       "border_bottom": null,
       "border_left": null,
       "border_right": null,
       "border_top": null,
       "bottom": null,
       "display": null,
       "flex": null,
       "flex_flow": null,
       "grid_area": null,
       "grid_auto_columns": null,
       "grid_auto_flow": null,
       "grid_auto_rows": null,
       "grid_column": null,
       "grid_gap": null,
       "grid_row": null,
       "grid_template_areas": null,
       "grid_template_columns": null,
       "grid_template_rows": null,
       "height": null,
       "justify_content": null,
       "justify_items": null,
       "left": null,
       "margin": null,
       "max_height": null,
       "max_width": null,
       "min_height": null,
       "min_width": null,
       "object_fit": null,
       "object_position": null,
       "order": null,
       "overflow": null,
       "padding": null,
       "right": null,
       "top": null,
       "visibility": null,
       "width": null
      }
     },
     "c1b58f1ae1b54b44ad54f3b7bf9eb1e6": {
      "model_module": "@jupyter-widgets/base",
      "model_module_version": "2.0.0",
      "model_name": "LayoutModel",
      "state": {
       "_model_module": "@jupyter-widgets/base",
       "_model_module_version": "2.0.0",
       "_model_name": "LayoutModel",
       "_view_count": null,
       "_view_module": "@jupyter-widgets/base",
       "_view_module_version": "2.0.0",
       "_view_name": "LayoutView",
       "align_content": null,
       "align_items": null,
       "align_self": null,
       "border_bottom": null,
       "border_left": null,
       "border_right": null,
       "border_top": null,
       "bottom": null,
       "display": null,
       "flex": null,
       "flex_flow": null,
       "grid_area": null,
       "grid_auto_columns": null,
       "grid_auto_flow": null,
       "grid_auto_rows": null,
       "grid_column": null,
       "grid_gap": null,
       "grid_row": null,
       "grid_template_areas": null,
       "grid_template_columns": null,
       "grid_template_rows": null,
       "height": null,
       "justify_content": null,
       "justify_items": null,
       "left": null,
       "margin": null,
       "max_height": null,
       "max_width": null,
       "min_height": null,
       "min_width": null,
       "object_fit": null,
       "object_position": null,
       "order": null,
       "overflow": null,
       "padding": null,
       "right": null,
       "top": null,
       "visibility": null,
       "width": null
      }
     },
     "d9384f2574c4428d8a522f6a4b851b72": {
      "model_module": "@jupyter-widgets/base",
      "model_module_version": "2.0.0",
      "model_name": "LayoutModel",
      "state": {
       "_model_module": "@jupyter-widgets/base",
       "_model_module_version": "2.0.0",
       "_model_name": "LayoutModel",
       "_view_count": null,
       "_view_module": "@jupyter-widgets/base",
       "_view_module_version": "2.0.0",
       "_view_name": "LayoutView",
       "align_content": null,
       "align_items": null,
       "align_self": null,
       "border_bottom": null,
       "border_left": null,
       "border_right": null,
       "border_top": null,
       "bottom": null,
       "display": null,
       "flex": null,
       "flex_flow": null,
       "grid_area": null,
       "grid_auto_columns": null,
       "grid_auto_flow": null,
       "grid_auto_rows": null,
       "grid_column": null,
       "grid_gap": null,
       "grid_row": null,
       "grid_template_areas": null,
       "grid_template_columns": null,
       "grid_template_rows": null,
       "height": null,
       "justify_content": null,
       "justify_items": null,
       "left": null,
       "margin": null,
       "max_height": null,
       "max_width": null,
       "min_height": null,
       "min_width": null,
       "object_fit": null,
       "object_position": null,
       "order": null,
       "overflow": null,
       "padding": null,
       "right": null,
       "top": null,
       "visibility": null,
       "width": null
      }
     },
     "f0cbe7f2793b45dba102998c4bdb1615": {
      "model_module": "@jupyter-widgets/controls",
      "model_module_version": "2.0.0",
      "model_name": "HTMLStyleModel",
      "state": {
       "_model_module": "@jupyter-widgets/controls",
       "_model_module_version": "2.0.0",
       "_model_name": "HTMLStyleModel",
       "_view_count": null,
       "_view_module": "@jupyter-widgets/base",
       "_view_module_version": "2.0.0",
       "_view_name": "StyleView",
       "background": null,
       "description_width": "",
       "font_size": null,
       "text_color": null
      }
     }
    },
    "version_major": 2,
    "version_minor": 0
   }
  }
 },
 "nbformat": 4,
 "nbformat_minor": 5
}
