{
 "cells": [
  {
   "cell_type": "markdown",
   "id": "5885d820-9fad-4934-aaf2-53fce3fd5d86",
   "metadata": {
    "tags": []
   },
   "source": [
    "# VScode, PyCharm, Spyder, JupyterLab integration"
   ]
  },
  {
   "cell_type": "markdown",
   "id": "61fdd150-4b2e-4dcc-8b15-93713efff1f2",
   "metadata": {},
   "source": [
    "You can launch jupyterlab or VSCode from the anaconda navigator\n",
    "\n",
    "Make sure you launch:\n",
    "\n",
    "- JupyterLab: recommended for new users and for learning\n",
    "- VSCode: for more advanced users.\n",
    "\n",
    "\n",
    "using the anaconda navigator so that your path is setup correctly.\n",
    "\n",
    "![navigator](https://i.imgur.com/e1fSszF.png)"
   ]
  },
  {
   "cell_type": "markdown",
   "id": "c1b5d785-f447-4fb7-bb66-2105f12feb77",
   "metadata": {},
   "source": [
    "## JupyterLab\n",
    "\n",
    "The gdsfactory installer installs Jupyterlab\n",
    "\n",
    "You can launch JupyterLab from the anaconda navigator.\n",
    "\n",
    "Jupyter Notebooks are a great way to go through tutorials like this one.\n",
    "\n",
    "![jupyterlab](https://i.imgur.com/WX0XEGg.png)"
   ]
  },
  {
   "cell_type": "markdown",
   "id": "89e9a3a5-4490-44e3-9ae2-6ac9ae233fca",
   "metadata": {},
   "source": [
    "## VScode\n",
    "\n",
    "VSCode is a free open source popular editor that you can [install](https://code.visualstudio.com/)\n",
    "\n",
    "gdsfactory has a VScode extension that you can install from the marketplace.\n",
    "\n",
    "The extension provides you with useful code snippets\n",
    "\n",
    "![extension](https://i.imgur.com/89OPCQ1.png)\n",
    "\n",
    "Make sure you choose the correct gdsfactory path.\n",
    "\n",
    "![vscode](https://i.imgur.com/g7IL3D3.png)"
   ]
  },
  {
   "cell_type": "markdown",
   "id": "a2404ca8-1863-46c9-9187-11ddfa4cdcfc",
   "metadata": {},
   "source": [
    "## PyCharm\n",
    "\n",
    "PyCharm is also a popular python IDE that you can [install](https://www.jetbrains.com/pycharm/)\n",
    "\n",
    "![pycharm](https://i.imgur.com/bK11wZW.png)"
   ]
  },
  {
   "cell_type": "markdown",
   "id": "962c64bb-68a2-4ffe-9ce1-a002111f2c1a",
   "metadata": {
    "tags": []
   },
   "source": [
    "## Spyder\n",
    "\n",
    "Spyder is the most similar IDE to Matlab.\n",
    "\n",
    "You can install spyder from the anaconda prompt using `conda install spyder -y`\n",
    "\n",
    "![spyder ipython](https://i.imgur.com/FotCgPh.png)"
   ]
  }
 ],
 "metadata": {
  "kernelspec": {
   "display_name": "Python 3 (ipykernel)",
   "language": "python",
   "name": "python3"
  },
  "language_info": {
   "codemirror_mode": {
    "name": "ipython",
    "version": 3
   },
   "file_extension": ".py",
   "mimetype": "text/x-python",
   "name": "python",
   "nbconvert_exporter": "python",
   "pygments_lexer": "ipython3",
   "version": "3.10.6"
  },
  "vscode": {
   "interpreter": {
    "hash": "e2f3784df2a44e03b92c04447476821a927e81089ad3ce6e764b424b1a4a6fc0"
   }
  }
 },
 "nbformat": 4,
 "nbformat_minor": 5
}
