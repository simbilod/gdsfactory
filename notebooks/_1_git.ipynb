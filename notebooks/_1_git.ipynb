{
 "cells": [
  {
   "cell_type": "markdown",
   "metadata": {
    "slideshow": {
     "slide_type": "slide"
    }
   },
   "source": [
    "# Git: Version control intro"
   ]
  },
  {
   "cell_type": "markdown",
   "metadata": {},
   "source": [
    "“Revision control, also known as version control, source control\n",
    "manages changes to documents, programs, and other information stored as computer files -- Wikipedia"
   ]
  },
  {
   "cell_type": "markdown",
   "metadata": {},
   "source": [
    "**Reproducibility?**\n",
    "\n",
    "* Tracking and recreating every step of your work\n",
    "* In the software world: it's called *Version Control*!\n",
    "\n",
    "What do (good) version control tools give you?\n",
    "\n",
    "* Peace of mind (backups)\n",
    "* Freedom (exploratory branching)\n",
    "* Collaboration (synchronization)"
   ]
  },
  {
   "cell_type": "markdown",
   "metadata": {
    "slideshow": {
     "slide_type": "slide"
    }
   },
   "source": [
    "## Git is an enabling technology: Use version control for everything"
   ]
  },
  {
   "cell_type": "markdown",
   "metadata": {},
   "source": [
    "* Write documents (never get `paper_v5_john_jane_final_oct22_really_final.tex` by email again!)\n",
    "* Write code\n",
    "* Backup your computer configuration"
   ]
  },
  {
   "cell_type": "markdown",
   "metadata": {},
   "source": [
    "This tutorial is structured in the following way: we will begin with a brief overview of key concepts you need to understand in order for git to really make sense.  We will then dive into hands-on work: after necessary configuration we will discuss 5 \"stages of git\" with scenarios of increasing sophistication and complexity, introducing the necessary commands for each stage:\n",
    "\n",
    "1. Local, single-user, linear workflow\n",
    "2. Single local user, branching\n",
    "3. Using remotes as a single user\n",
    "4. Remotes for collaborating in a small team\n",
    "5. distributed collaboration with large teams with GitHub/GitLab"
   ]
  },
  {
   "cell_type": "markdown",
   "metadata": {
    "slideshow": {
     "slide_type": "slide"
    }
   },
   "source": [
    "## Very high level picture: an overview of key concepts"
   ]
  },
  {
   "cell_type": "markdown",
   "metadata": {},
   "source": [
    "The **commit**: *a snapshot of work at a point in time* Every ball in this diagram represents a commit of all the files in a code repository, that we can go later in time, compare it with. We can also add labels/tags to this commits in case we want to develop new features.\n",
    "\n",
    "![](https://i.imgur.com/YpKkBzf.png)\n",
    "\n",
    "Credit: Gitflow Atlassian"
   ]
  },
  {
   "cell_type": "markdown",
   "metadata": {},
   "source": [
    "And this is pretty much the essence of Git!"
   ]
  },
  {
   "cell_type": "markdown",
   "metadata": {},
   "source": [
    "## First things first: git must be configured before first use"
   ]
  },
  {
   "cell_type": "markdown",
   "metadata": {},
   "source": [
    "The minimal amount of configuration for git to work without pestering you is to tell it who you are:\n",
    "\n",
    "### Exercise\n",
    "\n",
    "The preceding `!` marks that this code  will execute in the `terminal` interpreter instead of in `python`\n",
    "\n",
    "Lets tell Git who you are."
   ]
  },
  {
   "cell_type": "code",
   "execution_count": 1,
   "metadata": {
    "execution": {
     "iopub.execute_input": "2023-02-20T17:52:20.824334Z",
     "iopub.status.busy": "2023-02-20T17:52:20.823780Z",
     "iopub.status.idle": "2023-02-20T17:52:21.119248Z",
     "shell.execute_reply": "2023-02-20T17:52:21.118417Z"
    }
   },
   "outputs": [],
   "source": [
    "!git config --global user.name \"joaquin\" # replace joaquin by your name\n",
    "!git config --global user.email \"user@gmail.com\" # replace user by your email"
   ]
  },
  {
   "cell_type": "markdown",
   "metadata": {},
   "source": [
    "And how you will edit text files (it will often ask you to edit messages and other information, and thus wants to know how you like to edit your files):"
   ]
  },
  {
   "cell_type": "code",
   "execution_count": 2,
   "metadata": {
    "execution": {
     "iopub.execute_input": "2023-02-20T17:52:21.122621Z",
     "iopub.status.busy": "2023-02-20T17:52:21.122064Z",
     "iopub.status.idle": "2023-02-20T17:52:21.415252Z",
     "shell.execute_reply": "2023-02-20T17:52:21.414421Z"
    }
   },
   "outputs": [],
   "source": [
    "# Put here your preferred editor. If this is not set, git will honor the $EDITOR environment variable\n",
    "# On Windows: Notepad works, Notepad++, sublime or atom\n",
    "# On mac/linux: vim, sublime or atom as a basic option\n",
    "!git config --global core.editor nvim  # my lightweight neovim editor\n",
    "\n",
    "# And while we're at it, we also turn on the use of color, which is very useful\n",
    "!git config --global color.ui \"auto\""
   ]
  },
  {
   "cell_type": "markdown",
   "metadata": {},
   "source": [
    "## Stage 0: Configure GIT"
   ]
  },
  {
   "cell_type": "markdown",
   "metadata": {},
   "source": [
    "Github is offers in its help pages instructions on how to configure the credentials helper for [Mac OSX](https://help.github.com/articles/set-up-git#platform-mac) and [Windows](https://help.github.com/articles/set-up-git#platform-windows)."
   ]
  },
  {
   "cell_type": "markdown",
   "metadata": {},
   "source": [
    "First we are going to create an SSH key that you can upload to GitHub to recognize you.\n",
    "The key has a private part `id_rsa` that you should keep secret, and a public part `id_rsa.pub` that can upload to GitHub knows it's you.\n",
    "\n",
    "Uncomment and execute the following line, and make sure you run it only once, so only generate one key."
   ]
  },
  {
   "cell_type": "code",
   "execution_count": 3,
   "metadata": {
    "execution": {
     "iopub.execute_input": "2023-02-20T17:52:21.418735Z",
     "iopub.status.busy": "2023-02-20T17:52:21.418355Z",
     "iopub.status.idle": "2023-02-20T17:52:21.422327Z",
     "shell.execute_reply": "2023-02-20T17:52:21.421781Z"
    }
   },
   "outputs": [],
   "source": [
    "#! ssh-keygen -f ~/.ssh/id_rsa -t rsa -N ''"
   ]
  },
  {
   "cell_type": "code",
   "execution_count": 4,
   "metadata": {
    "execution": {
     "iopub.execute_input": "2023-02-20T17:52:21.424860Z",
     "iopub.status.busy": "2023-02-20T17:52:21.424457Z",
     "iopub.status.idle": "2023-02-20T17:52:21.572730Z",
     "shell.execute_reply": "2023-02-20T17:52:21.572009Z"
    }
   },
   "outputs": [
    {
     "name": "stdout",
     "output_type": "stream",
     "text": [
      "cat: /home/runner/.ssh/id_rsa.pub: No such file or directory\r\n"
     ]
    }
   ],
   "source": [
    "! cat ~/.ssh/id_rsa.pub"
   ]
  },
  {
   "cell_type": "markdown",
   "metadata": {},
   "source": [
    "Then paste the key into your GitHub account. See [doc](https://jdblischak.github.io/2014-09-18-chicago/novice/git/05-sshkeys.html)\n",
    "\n",
    "![key](https://i.imgur.com/33nnXKy.png)\n",
    "![key2](https://i.imgur.com/OjA2dPs.png)"
   ]
  },
  {
   "cell_type": "markdown",
   "metadata": {
    "slideshow": {
     "slide_type": "slide"
    }
   },
   "source": [
    "## Stage 1: Local, single-user, linear workflow"
   ]
  },
  {
   "cell_type": "markdown",
   "metadata": {},
   "source": [
    "Simply type `git` to see a full list of all the 'core' commands.  We'll now go through most of these via small practical exercises:"
   ]
  },
  {
   "cell_type": "code",
   "execution_count": 5,
   "metadata": {
    "execution": {
     "iopub.execute_input": "2023-02-20T17:52:21.576121Z",
     "iopub.status.busy": "2023-02-20T17:52:21.575734Z",
     "iopub.status.idle": "2023-02-20T17:52:21.724686Z",
     "shell.execute_reply": "2023-02-20T17:52:21.723808Z"
    }
   },
   "outputs": [
    {
     "name": "stdout",
     "output_type": "stream",
     "text": [
      "usage: git [-v | --version] [-h | --help] [-C <path>] [-c <name>=<value>]\r\n",
      "           [--exec-path[=<path>]] [--html-path] [--man-path] [--info-path]\r\n",
      "           [-p | --paginate | -P | --no-pager] [--no-replace-objects] [--bare]\r\n",
      "           [--git-dir=<path>] [--work-tree=<path>] [--namespace=<name>]\r\n",
      "           [--super-prefix=<path>] [--config-env=<name>=<envvar>]\r\n",
      "           <command> [<args>]\r\n",
      "\r\n",
      "These are common Git commands used in various situations:\r\n",
      "\r\n",
      "start a working area (see also: git help tutorial)\r\n",
      "   clone     Clone a repository into a new directory\r\n",
      "   init      Create an empty Git repository or reinitialize an existing one\r\n",
      "\r\n",
      "work on the current change (see also: git help everyday)\r\n",
      "   add       Add file contents to the index\r\n",
      "   mv        Move or rename a file, a directory, or a symlink\r\n",
      "   restore   Restore working tree files\r\n",
      "   rm        Remove files from the working tree and from the index\r\n",
      "\r\n",
      "examine the history and state (see also: git help revisions)\r\n",
      "   bisect    Use binary search to find the commit that introduced a bug\r\n",
      "   diff      Show changes between commits, commit and working tree, etc\r\n",
      "   grep      Print lines matching a pattern\r\n",
      "   log       Show commit logs\r\n",
      "   show      Show various types of objects\r\n",
      "   status    Show the working tree status\r\n",
      "\r\n",
      "grow, mark and tweak your common history\r\n",
      "   branch    List, create, or delete branches\r\n",
      "   commit    Record changes to the repository\r\n",
      "   merge     Join two or more development histories together\r\n",
      "   rebase    Reapply commits on top of another base tip\r\n",
      "   reset     Reset current HEAD to the specified state\r\n",
      "   switch    Switch branches\r\n",
      "   tag       Create, list, delete or verify a tag object signed with GPG\r\n",
      "\r\n",
      "collaborate (see also: git help workflows)\r\n",
      "   fetch     Download objects and refs from another repository\r\n",
      "   pull      Fetch from and integrate with another repository or a local branch\r\n",
      "   push      Update remote refs along with associated objects\r\n",
      "\r\n",
      "'git help -a' and 'git help -g' list available subcommands and some\r\n",
      "concept guides. See 'git help <command>' or 'git help <concept>'\r\n",
      "to read about a specific subcommand or concept.\r\n",
      "See 'git help git' for an overview of the system.\r\n"
     ]
    }
   ],
   "source": [
    "!git"
   ]
  },
  {
   "cell_type": "markdown",
   "metadata": {},
   "source": [
    "We are going to create a test repo for git to play"
   ]
  },
  {
   "cell_type": "markdown",
   "metadata": {
    "slideshow": {
     "slide_type": "slide"
    }
   },
   "source": [
    "### `git init`: create an empty repository\n",
    "\n",
    "first we create a folder called `playground_repo`"
   ]
  },
  {
   "cell_type": "code",
   "execution_count": 6,
   "metadata": {
    "execution": {
     "iopub.execute_input": "2023-02-20T17:52:21.728220Z",
     "iopub.status.busy": "2023-02-20T17:52:21.727657Z",
     "iopub.status.idle": "2023-02-20T17:52:21.875505Z",
     "shell.execute_reply": "2023-02-20T17:52:21.874510Z"
    }
   },
   "outputs": [],
   "source": [
    "! mkdir playground_repo"
   ]
  },
  {
   "cell_type": "code",
   "execution_count": 7,
   "metadata": {
    "execution": {
     "iopub.execute_input": "2023-02-20T17:52:21.878701Z",
     "iopub.status.busy": "2023-02-20T17:52:21.878336Z",
     "iopub.status.idle": "2023-02-20T17:52:21.883553Z",
     "shell.execute_reply": "2023-02-20T17:52:21.882983Z"
    }
   },
   "outputs": [
    {
     "name": "stdout",
     "output_type": "stream",
     "text": [
      "/home/runner/work/gdsfactory/gdsfactory/docs/notebooks/playground_repo\n"
     ]
    }
   ],
   "source": [
    "cd playground_repo"
   ]
  },
  {
   "cell_type": "markdown",
   "metadata": {},
   "source": [
    "Let's look at what git did:"
   ]
  },
  {
   "cell_type": "code",
   "execution_count": 8,
   "metadata": {
    "execution": {
     "iopub.execute_input": "2023-02-20T17:52:21.886043Z",
     "iopub.status.busy": "2023-02-20T17:52:21.885588Z",
     "iopub.status.idle": "2023-02-20T17:52:22.034642Z",
     "shell.execute_reply": "2023-02-20T17:52:22.033726Z"
    }
   },
   "outputs": [
    {
     "name": "stdout",
     "output_type": "stream",
     "text": [
      "total 8\r\n",
      "drwxr-xr-x 2 runner docker 4096 Feb 20 17:52 .\r\n",
      "drwxr-xr-x 8 runner docker 4096 Feb 20 17:52 ..\r\n"
     ]
    }
   ],
   "source": [
    "!ls -la"
   ]
  },
  {
   "cell_type": "markdown",
   "metadata": {},
   "source": [
    "The folder is empty now.\n",
    "\n",
    "Lets create a new repo in the folder."
   ]
  },
  {
   "cell_type": "code",
   "execution_count": 9,
   "metadata": {
    "execution": {
     "iopub.execute_input": "2023-02-20T17:52:22.038084Z",
     "iopub.status.busy": "2023-02-20T17:52:22.037524Z",
     "iopub.status.idle": "2023-02-20T17:52:22.188302Z",
     "shell.execute_reply": "2023-02-20T17:52:22.187562Z"
    }
   },
   "outputs": [
    {
     "name": "stdout",
     "output_type": "stream",
     "text": [
      "\u001b[33mhint: Using 'master' as the name for the initial branch. This default branch name\u001b[m\r\n",
      "\u001b[33mhint: is subject to change. To configure the initial branch name to use in all\u001b[m\r\n",
      "\u001b[33mhint: of your new repositories, which will suppress this warning, call:\u001b[m\r\n",
      "\u001b[33mhint: \u001b[m\r\n",
      "\u001b[33mhint: \tgit config --global init.defaultBranch <name>\u001b[m\r\n",
      "\u001b[33mhint: \u001b[m\r\n",
      "\u001b[33mhint: Names commonly chosen instead of 'master' are 'main', 'trunk' and\u001b[m\r\n",
      "\u001b[33mhint: 'development'. The just-created branch can be renamed via this command:\u001b[m\r\n",
      "\u001b[33mhint: \u001b[m\r\n",
      "\u001b[33mhint: \tgit branch -m <name>\u001b[m\r\n",
      "Initialized empty Git repository in /home/runner/work/gdsfactory/gdsfactory/docs/notebooks/playground_repo/.git/\r\n"
     ]
    }
   ],
   "source": [
    "! git init"
   ]
  },
  {
   "cell_type": "code",
   "execution_count": 10,
   "metadata": {
    "execution": {
     "iopub.execute_input": "2023-02-20T17:52:22.191309Z",
     "iopub.status.busy": "2023-02-20T17:52:22.190944Z",
     "iopub.status.idle": "2023-02-20T17:52:22.338853Z",
     "shell.execute_reply": "2023-02-20T17:52:22.338130Z"
    }
   },
   "outputs": [
    {
     "name": "stdout",
     "output_type": "stream",
     "text": [
      "total 12\r\n",
      "drwxr-xr-x 3 runner docker 4096 Feb 20 17:52 .\r\n",
      "drwxr-xr-x 8 runner docker 4096 Feb 20 17:52 ..\r\n",
      "drwxr-xr-x 7 runner docker 4096 Feb 20 17:52 .git\r\n"
     ]
    }
   ],
   "source": [
    "! ls -la"
   ]
  },
  {
   "cell_type": "markdown",
   "metadata": {},
   "source": [
    "Now you can see that there is a hidden folder `.git` (notice the dot that marks it as a hidden folder), which is the GIT repo"
   ]
  },
  {
   "cell_type": "code",
   "execution_count": 11,
   "metadata": {
    "execution": {
     "iopub.execute_input": "2023-02-20T17:52:22.342432Z",
     "iopub.status.busy": "2023-02-20T17:52:22.341885Z",
     "iopub.status.idle": "2023-02-20T17:52:22.490699Z",
     "shell.execute_reply": "2023-02-20T17:52:22.489965Z"
    }
   },
   "outputs": [
    {
     "name": "stdout",
     "output_type": "stream",
     "text": [
      "total 40\r\n",
      "drwxr-xr-x 7 runner docker 4096 Feb 20 17:52 .\r\n",
      "drwxr-xr-x 3 runner docker 4096 Feb 20 17:52 ..\r\n",
      "-rw-r--r-- 1 runner docker   23 Feb 20 17:52 HEAD\r\n",
      "drwxr-xr-x 2 runner docker 4096 Feb 20 17:52 branches\r\n",
      "-rw-r--r-- 1 runner docker   92 Feb 20 17:52 config\r\n",
      "-rwxr-xr-x 1 runner docker   73 Feb 20 17:52 description\r\n",
      "drwxr-xr-x 2 runner docker 4096 Feb 20 17:52 hooks\r\n",
      "drwxr-xr-x 2 runner docker 4096 Feb 20 17:52 info\r\n",
      "drwxr-xr-x 4 runner docker 4096 Feb 20 17:52 objects\r\n",
      "drwxr-xr-x 4 runner docker 4096 Feb 20 17:52 refs\r\n"
     ]
    }
   ],
   "source": [
    "! ls -la .git"
   ]
  },
  {
   "cell_type": "markdown",
   "metadata": {},
   "source": [
    "Now let's edit our first file in the test directory with a text editor... I'm doing it programmatically here for automation purposes, but you'd normally be editing by hand"
   ]
  },
  {
   "cell_type": "code",
   "execution_count": 12,
   "metadata": {
    "execution": {
     "iopub.execute_input": "2023-02-20T17:52:22.494028Z",
     "iopub.status.busy": "2023-02-20T17:52:22.493658Z",
     "iopub.status.idle": "2023-02-20T17:52:22.640805Z",
     "shell.execute_reply": "2023-02-20T17:52:22.639986Z"
    }
   },
   "outputs": [],
   "source": [
    "!echo \"My first bit of text in the repo\" > README.md"
   ]
  },
  {
   "cell_type": "markdown",
   "metadata": {},
   "source": [
    "`ls` lists the contents of the current working directory"
   ]
  },
  {
   "cell_type": "code",
   "execution_count": 13,
   "metadata": {
    "execution": {
     "iopub.execute_input": "2023-02-20T17:52:22.644189Z",
     "iopub.status.busy": "2023-02-20T17:52:22.643815Z",
     "iopub.status.idle": "2023-02-20T17:52:22.792412Z",
     "shell.execute_reply": "2023-02-20T17:52:22.791677Z"
    }
   },
   "outputs": [
    {
     "name": "stdout",
     "output_type": "stream",
     "text": [
      "README.md\r\n"
     ]
    }
   ],
   "source": [
    "!ls"
   ]
  },
  {
   "cell_type": "markdown",
   "metadata": {
    "slideshow": {
     "slide_type": "slide"
    }
   },
   "source": [
    "### `git add`: tell git about this new file"
   ]
  },
  {
   "cell_type": "code",
   "execution_count": 14,
   "metadata": {
    "execution": {
     "iopub.execute_input": "2023-02-20T17:52:22.795607Z",
     "iopub.status.busy": "2023-02-20T17:52:22.795238Z",
     "iopub.status.idle": "2023-02-20T17:52:22.944151Z",
     "shell.execute_reply": "2023-02-20T17:52:22.943286Z"
    }
   },
   "outputs": [],
   "source": [
    "!git add README.md"
   ]
  },
  {
   "cell_type": "markdown",
   "metadata": {},
   "source": [
    "We can now ask git about what happened with `status`:"
   ]
  },
  {
   "cell_type": "code",
   "execution_count": 15,
   "metadata": {
    "execution": {
     "iopub.execute_input": "2023-02-20T17:52:22.947571Z",
     "iopub.status.busy": "2023-02-20T17:52:22.947191Z",
     "iopub.status.idle": "2023-02-20T17:52:23.096614Z",
     "shell.execute_reply": "2023-02-20T17:52:23.095885Z"
    }
   },
   "outputs": [
    {
     "name": "stdout",
     "output_type": "stream",
     "text": [
      "On branch master\r\n",
      "\r\n",
      "No commits yet\r\n",
      "\r\n",
      "Changes to be committed:\r\n",
      "  (use \"git rm --cached <file>...\" to unstage)\r\n",
      "\t\u001b[32mnew file:   README.md\u001b[m\r\n",
      "\r\n"
     ]
    }
   ],
   "source": [
    "!git status"
   ]
  },
  {
   "cell_type": "markdown",
   "metadata": {
    "slideshow": {
     "slide_type": "slide"
    }
   },
   "source": [
    "### `git commit`: permanently record our changes in git's database"
   ]
  },
  {
   "cell_type": "markdown",
   "metadata": {},
   "source": [
    "For now, we are *always* going to call `git commit` either with the `-a` option *or* with specific filenames (`git commit file1 file2...`).  This delays the discussion of an aspect of git called the *index* (often referred to also as the 'staging area') that we will cover later.  Most everyday work in regular scientific practice doesn't require understanding the extra moving parts that the index involves, so on a first round we'll bypass it.  Later on we will discuss how to use it to achieve more fine-grained control of what and how git records our actions."
   ]
  },
  {
   "cell_type": "code",
   "execution_count": 16,
   "metadata": {
    "execution": {
     "iopub.execute_input": "2023-02-20T17:52:23.099970Z",
     "iopub.status.busy": "2023-02-20T17:52:23.099495Z",
     "iopub.status.idle": "2023-02-20T17:52:23.251501Z",
     "shell.execute_reply": "2023-02-20T17:52:23.250761Z"
    }
   },
   "outputs": [
    {
     "name": "stdout",
     "output_type": "stream",
     "text": [
      "[master (root-commit) daf4196] First commit\r\n",
      " 1 file changed, 1 insertion(+)\r\n",
      " create mode 100644 README.md\r\n"
     ]
    }
   ],
   "source": [
    "!git commit -a -m \"First commit\""
   ]
  },
  {
   "cell_type": "markdown",
   "metadata": {},
   "source": [
    "In the commit above, we  used the `-m` flag to specify a message at the command line.  If we don't do that, git will open the editor we specified in our configuration above and require that we enter a message.  By default, git refuses to record changes that don't have a message to go along with them (though you can obviously 'cheat' by using an empty or meaningless string: git only tries to facilitate best practices, it's not your nanny)."
   ]
  },
  {
   "cell_type": "markdown",
   "metadata": {
    "slideshow": {
     "slide_type": "slide"
    }
   },
   "source": [
    "### `git log`: what has been committed so far"
   ]
  },
  {
   "cell_type": "code",
   "execution_count": 17,
   "metadata": {
    "execution": {
     "iopub.execute_input": "2023-02-20T17:52:23.254855Z",
     "iopub.status.busy": "2023-02-20T17:52:23.254487Z",
     "iopub.status.idle": "2023-02-20T17:52:23.404058Z",
     "shell.execute_reply": "2023-02-20T17:52:23.403308Z"
    }
   },
   "outputs": [
    {
     "name": "stdout",
     "output_type": "stream",
     "text": [
      "\u001b[33mcommit daf4196f4790c61e6c130c66bda2f1f99efabdaf\u001b[m\u001b[33m (\u001b[m\u001b[1;36mHEAD -> \u001b[m\u001b[1;32mmaster\u001b[m\u001b[33m)\u001b[m\r\n",
      "Author: joaquin <user@gmail.com>\r\n",
      "Date:   Mon Feb 20 17:52:23 2023 +0000\r\n",
      "\r\n",
      "    First commit\r\n"
     ]
    }
   ],
   "source": [
    "!git log"
   ]
  },
  {
   "cell_type": "markdown",
   "metadata": {},
   "source": [
    "### `git diff`: what have I changed?"
   ]
  },
  {
   "cell_type": "markdown",
   "metadata": {},
   "source": [
    "Let's do a little bit more work... Again, in practice you'll be editing the files by hand, here we do it via shell commands for the sake of automation (and therefore the reproducibility of this tutorial!)"
   ]
  },
  {
   "cell_type": "code",
   "execution_count": 18,
   "metadata": {
    "execution": {
     "iopub.execute_input": "2023-02-20T17:52:23.407362Z",
     "iopub.status.busy": "2023-02-20T17:52:23.406748Z",
     "iopub.status.idle": "2023-02-20T17:52:23.553607Z",
     "shell.execute_reply": "2023-02-20T17:52:23.552778Z"
    }
   },
   "outputs": [],
   "source": [
    "!echo \"And now we add a second line...\" >> README.md"
   ]
  },
  {
   "cell_type": "markdown",
   "metadata": {},
   "source": [
    "And now we can ask git what is different:"
   ]
  },
  {
   "cell_type": "code",
   "execution_count": 19,
   "metadata": {
    "execution": {
     "iopub.execute_input": "2023-02-20T17:52:23.556828Z",
     "iopub.status.busy": "2023-02-20T17:52:23.556279Z",
     "iopub.status.idle": "2023-02-20T17:52:23.705620Z",
     "shell.execute_reply": "2023-02-20T17:52:23.704907Z"
    }
   },
   "outputs": [
    {
     "name": "stdout",
     "output_type": "stream",
     "text": [
      "\u001b[1mdiff --git a/README.md b/README.md\u001b[m\r\n",
      "\u001b[1mindex db447fe..466ed60 100644\u001b[m\r\n",
      "\u001b[1m--- a/README.md\u001b[m\r\n",
      "\u001b[1m+++ b/README.md\u001b[m\r\n",
      "\u001b[36m@@ -1 +1,2 @@\u001b[m\r\n",
      " My first bit of text in the repo\u001b[m\r\n",
      "\u001b[32m+\u001b[m\u001b[32mAnd now we add a second line...\u001b[m\r\n"
     ]
    }
   ],
   "source": [
    "!git diff"
   ]
  },
  {
   "cell_type": "markdown",
   "metadata": {},
   "source": [
    "### The cycle of git virtue: work, commit, work, commit, ..."
   ]
  },
  {
   "cell_type": "code",
   "execution_count": 20,
   "metadata": {
    "execution": {
     "iopub.execute_input": "2023-02-20T17:52:23.708869Z",
     "iopub.status.busy": "2023-02-20T17:52:23.708492Z",
     "iopub.status.idle": "2023-02-20T17:52:23.860743Z",
     "shell.execute_reply": "2023-02-20T17:52:23.860013Z"
    }
   },
   "outputs": [
    {
     "name": "stdout",
     "output_type": "stream",
     "text": [
      "[master dcaf74c] added second line.\r\n",
      " 1 file changed, 1 insertion(+)\r\n"
     ]
    }
   ],
   "source": [
    "!git commit -a -m \"added second line.\""
   ]
  },
  {
   "cell_type": "markdown",
   "metadata": {},
   "source": [
    "### `git log` revisited"
   ]
  },
  {
   "cell_type": "markdown",
   "metadata": {},
   "source": [
    "First, let's see what the log shows us now:"
   ]
  },
  {
   "cell_type": "code",
   "execution_count": 21,
   "metadata": {
    "execution": {
     "iopub.execute_input": "2023-02-20T17:52:23.864298Z",
     "iopub.status.busy": "2023-02-20T17:52:23.863711Z",
     "iopub.status.idle": "2023-02-20T17:52:24.013286Z",
     "shell.execute_reply": "2023-02-20T17:52:24.012545Z"
    }
   },
   "outputs": [
    {
     "name": "stdout",
     "output_type": "stream",
     "text": [
      "\u001b[33mcommit dcaf74c2c3e60435528ea9d49d1bca9ee142741e\u001b[m\u001b[33m (\u001b[m\u001b[1;36mHEAD -> \u001b[m\u001b[1;32mmaster\u001b[m\u001b[33m)\u001b[m\r\n",
      "Author: joaquin <user@gmail.com>\r\n",
      "Date:   Mon Feb 20 17:52:23 2023 +0000\r\n",
      "\r\n",
      "    added second line.\r\n",
      "\r\n",
      "\u001b[33mcommit daf4196f4790c61e6c130c66bda2f1f99efabdaf\u001b[m\r\n",
      "Author: joaquin <user@gmail.com>\r\n",
      "Date:   Mon Feb 20 17:52:23 2023 +0000\r\n",
      "\r\n",
      "    First commit\r\n"
     ]
    }
   ],
   "source": [
    "!git log"
   ]
  },
  {
   "cell_type": "markdown",
   "metadata": {},
   "source": [
    "Sometimes it's handy to see a very summarized version of the log:"
   ]
  },
  {
   "cell_type": "code",
   "execution_count": 22,
   "metadata": {
    "execution": {
     "iopub.execute_input": "2023-02-20T17:52:24.016370Z",
     "iopub.status.busy": "2023-02-20T17:52:24.015986Z",
     "iopub.status.idle": "2023-02-20T17:52:24.165681Z",
     "shell.execute_reply": "2023-02-20T17:52:24.164970Z"
    }
   },
   "outputs": [
    {
     "name": "stdout",
     "output_type": "stream",
     "text": [
      "* \u001b[33mdcaf74c\u001b[m\u001b[33m (\u001b[m\u001b[1;36mHEAD -> \u001b[m\u001b[1;32mmaster\u001b[m\u001b[33m)\u001b[m added second line.\r\n",
      "* \u001b[33mdaf4196\u001b[m First commit\r\n"
     ]
    }
   ],
   "source": [
    "!git log --oneline --topo-order --graph"
   ]
  },
  {
   "cell_type": "markdown",
   "metadata": {},
   "source": [
    "Git supports *aliases:* new names given to command combinations. Let's make this handy shortlog an alias, so we only have to type `git slog` and see this compact log:"
   ]
  },
  {
   "cell_type": "code",
   "execution_count": 23,
   "metadata": {
    "execution": {
     "iopub.execute_input": "2023-02-20T17:52:24.168800Z",
     "iopub.status.busy": "2023-02-20T17:52:24.168452Z",
     "iopub.status.idle": "2023-02-20T17:52:24.464409Z",
     "shell.execute_reply": "2023-02-20T17:52:24.463671Z"
    }
   },
   "outputs": [
    {
     "name": "stdout",
     "output_type": "stream",
     "text": [
      "* \u001b[33mdcaf74c\u001b[m\u001b[33m (\u001b[m\u001b[1;36mHEAD -> \u001b[m\u001b[1;32mmaster\u001b[m\u001b[33m)\u001b[m added second line.\r\n",
      "* \u001b[33mdaf4196\u001b[m First commit\r\n"
     ]
    }
   ],
   "source": [
    "# We create our alias (this saves it in git's permanent configuration file):\n",
    "!git config --global alias.slog \"log --oneline --topo-order --graph\"\n",
    "\n",
    "# And now we can use it\n",
    "!git slog"
   ]
  },
  {
   "cell_type": "markdown",
   "metadata": {},
   "source": [
    "### `git mv` and `rm`: moving and removing files"
   ]
  },
  {
   "cell_type": "markdown",
   "metadata": {},
   "source": [
    "While `git add` is used to add fills to the list git tracks, we must also tell it if we want their  names to change or for it to stop tracking them.  In familiar Unix fashion, the `mv` and `rm` git commands do precisely this:"
   ]
  },
  {
   "cell_type": "code",
   "execution_count": 24,
   "metadata": {
    "execution": {
     "iopub.execute_input": "2023-02-20T17:52:24.467954Z",
     "iopub.status.busy": "2023-02-20T17:52:24.467417Z",
     "iopub.status.idle": "2023-02-20T17:52:24.761827Z",
     "shell.execute_reply": "2023-02-20T17:52:24.761097Z"
    }
   },
   "outputs": [
    {
     "name": "stdout",
     "output_type": "stream",
     "text": [
      "On branch master\r\n",
      "Changes to be committed:\r\n",
      "  (use \"git restore --staged <file>...\" to unstage)\r\n",
      "\t\u001b[32mrenamed:    README.md -> README.markdown\u001b[m\r\n",
      "\r\n"
     ]
    }
   ],
   "source": [
    "!git mv README.md README.markdown\n",
    "!git status"
   ]
  },
  {
   "cell_type": "markdown",
   "metadata": {},
   "source": [
    "Note that these changes must be committed too, to become permanent!  In git's world, until something hasn't been committed, it isn't permanently recorded anywhere."
   ]
  },
  {
   "cell_type": "code",
   "execution_count": 25,
   "metadata": {
    "execution": {
     "iopub.execute_input": "2023-02-20T17:52:24.765023Z",
     "iopub.status.busy": "2023-02-20T17:52:24.764495Z",
     "iopub.status.idle": "2023-02-20T17:52:25.206461Z",
     "shell.execute_reply": "2023-02-20T17:52:25.205748Z"
    }
   },
   "outputs": [
    {
     "name": "stdout",
     "output_type": "stream",
     "text": [
      "[master ed2fe14] I like this new name better\r\n",
      " 1 file changed, 0 insertions(+), 0 deletions(-)\r\n",
      " rename README.md => README.markdown (100%)\r\n"
     ]
    },
    {
     "name": "stdout",
     "output_type": "stream",
     "text": [
      "Let's look at the log again:\r\n"
     ]
    },
    {
     "name": "stdout",
     "output_type": "stream",
     "text": [
      "* \u001b[33med2fe14\u001b[m\u001b[33m (\u001b[m\u001b[1;36mHEAD -> \u001b[m\u001b[1;32mmaster\u001b[m\u001b[33m)\u001b[m I like this new name better\r\n",
      "* \u001b[33mdcaf74c\u001b[m added second line.\r\n",
      "* \u001b[33mdaf4196\u001b[m First commit\r\n"
     ]
    }
   ],
   "source": [
    "!git commit -a -m \"I like this new name better\"\n",
    "!echo \"Let's look at the log again:\"\n",
    "!git slog"
   ]
  },
  {
   "cell_type": "markdown",
   "metadata": {},
   "source": [
    "And `git rm` works in a similar fashion removing the file from your repo."
   ]
  },
  {
   "cell_type": "markdown",
   "metadata": {
    "slideshow": {
     "slide_type": "slide"
    }
   },
   "source": [
    "## Local user, branching"
   ]
  },
  {
   "cell_type": "markdown",
   "metadata": {},
   "source": [
    "What is a branch?  A branch is a label for the state of a GIT repositories. It makes it easy to develop features and go back and forth between the original `main` and the copy `feature branch` version of the files inside the GIT repo\n",
    "\n",
    "![](https://i.imgur.com/Sw95CUf.png)\n",
    "\n",
    "Credit: Gitflow Atlassian"
   ]
  },
  {
   "cell_type": "markdown",
   "metadata": {},
   "source": [
    "There can be multiple branches alive at any point in time; the working directory is the state of a special pointer called HEAD.  In this example there are two branches, *main* and *develop*:"
   ]
  },
  {
   "cell_type": "markdown",
   "metadata": {},
   "source": [
    "Once new commits are made on a branch, HEAD and the branch label move with the new commits:"
   ]
  },
  {
   "cell_type": "markdown",
   "metadata": {},
   "source": [
    "This allows the history of both branches to diverge:"
   ]
  },
  {
   "cell_type": "markdown",
   "metadata": {},
   "source": [
    "But based on this graph structure, git can compute the necessary information to merge the divergent branches back and continue with a unified line of development:"
   ]
  },
  {
   "cell_type": "markdown",
   "metadata": {},
   "source": [
    "Let's now illustrate all of this with a concrete example."
   ]
  },
  {
   "cell_type": "code",
   "execution_count": 26,
   "metadata": {
    "execution": {
     "iopub.execute_input": "2023-02-20T17:52:25.210014Z",
     "iopub.status.busy": "2023-02-20T17:52:25.209646Z",
     "iopub.status.idle": "2023-02-20T17:52:25.358528Z",
     "shell.execute_reply": "2023-02-20T17:52:25.357807Z"
    }
   },
   "outputs": [
    {
     "name": "stdout",
     "output_type": "stream",
     "text": [
      "On branch master\r\n",
      "nothing to commit, working tree clean\r\n"
     ]
    }
   ],
   "source": [
    "!git status"
   ]
  },
  {
   "cell_type": "code",
   "execution_count": 27,
   "metadata": {
    "execution": {
     "iopub.execute_input": "2023-02-20T17:52:25.361787Z",
     "iopub.status.busy": "2023-02-20T17:52:25.361427Z",
     "iopub.status.idle": "2023-02-20T17:52:25.509672Z",
     "shell.execute_reply": "2023-02-20T17:52:25.508955Z"
    }
   },
   "outputs": [
    {
     "name": "stdout",
     "output_type": "stream",
     "text": [
      "README.markdown\r\n"
     ]
    }
   ],
   "source": [
    "!ls"
   ]
  },
  {
   "cell_type": "markdown",
   "metadata": {},
   "source": [
    "We are now going to try two different routes of development: on the `main` branch we will add one file and on the `emojis` branch, which we will create, we will add a different one.  We will then merge the emojis branch into `main`."
   ]
  },
  {
   "cell_type": "code",
   "execution_count": 28,
   "metadata": {
    "execution": {
     "iopub.execute_input": "2023-02-20T17:52:25.512789Z",
     "iopub.status.busy": "2023-02-20T17:52:25.512346Z",
     "iopub.status.idle": "2023-02-20T17:52:25.805836Z",
     "shell.execute_reply": "2023-02-20T17:52:25.805127Z"
    }
   },
   "outputs": [
    {
     "name": "stdout",
     "output_type": "stream",
     "text": [
      "Switched to branch 'emojis'\r\n"
     ]
    }
   ],
   "source": [
    "!git branch emojis\n",
    "!git checkout emojis"
   ]
  },
  {
   "cell_type": "code",
   "execution_count": 29,
   "metadata": {
    "execution": {
     "iopub.execute_input": "2023-02-20T17:52:25.808901Z",
     "iopub.status.busy": "2023-02-20T17:52:25.808550Z",
     "iopub.status.idle": "2023-02-20T17:52:26.393523Z",
     "shell.execute_reply": "2023-02-20T17:52:26.392800Z"
    }
   },
   "outputs": [
    {
     "name": "stdout",
     "output_type": "stream",
     "text": [
      "[emojis 41424cc] Adding some emojis\r\n",
      " 1 file changed, 1 insertion(+)\r\n",
      " create mode 100644 emojis.md\r\n"
     ]
    },
    {
     "name": "stdout",
     "output_type": "stream",
     "text": [
      "* \u001b[33m41424cc\u001b[m\u001b[33m (\u001b[m\u001b[1;36mHEAD -> \u001b[m\u001b[1;32memojis\u001b[m\u001b[33m)\u001b[m Adding some emojis\r\n",
      "* \u001b[33med2fe14\u001b[m\u001b[33m (\u001b[m\u001b[1;32mmaster\u001b[m\u001b[33m)\u001b[m I like this new name better\r\n",
      "* \u001b[33mdcaf74c\u001b[m added second line.\r\n",
      "* \u001b[33mdaf4196\u001b[m First commit\r\n"
     ]
    }
   ],
   "source": [
    "!echo \"Some emojis :smile:, :horse:, :cat:\" > emojis.md\n",
    "!git add emojis.md\n",
    "!git commit -a -m \"Adding some emojis\"\n",
    "!git slog"
   ]
  },
  {
   "cell_type": "code",
   "execution_count": 30,
   "metadata": {
    "execution": {
     "iopub.execute_input": "2023-02-20T17:52:26.396721Z",
     "iopub.status.busy": "2023-02-20T17:52:26.396488Z",
     "iopub.status.idle": "2023-02-20T17:52:26.693183Z",
     "shell.execute_reply": "2023-02-20T17:52:26.692478Z"
    }
   },
   "outputs": [
    {
     "name": "stdout",
     "output_type": "stream",
     "text": [
      "error: pathspec 'main' did not match any file(s) known to git\r\n"
     ]
    },
    {
     "name": "stdout",
     "output_type": "stream",
     "text": [
      "* \u001b[33m41424cc\u001b[m\u001b[33m (\u001b[m\u001b[1;36mHEAD -> \u001b[m\u001b[1;32memojis\u001b[m\u001b[33m)\u001b[m Adding some emojis\r\n",
      "* \u001b[33med2fe14\u001b[m\u001b[33m (\u001b[m\u001b[1;32mmaster\u001b[m\u001b[33m)\u001b[m I like this new name better\r\n",
      "* \u001b[33mdcaf74c\u001b[m added second line.\r\n",
      "* \u001b[33mdaf4196\u001b[m First commit\r\n"
     ]
    }
   ],
   "source": [
    "!git checkout main\n",
    "!git slog"
   ]
  },
  {
   "cell_type": "code",
   "execution_count": 31,
   "metadata": {
    "execution": {
     "iopub.execute_input": "2023-02-20T17:52:26.696332Z",
     "iopub.status.busy": "2023-02-20T17:52:26.695817Z",
     "iopub.status.idle": "2023-02-20T17:52:26.844896Z",
     "shell.execute_reply": "2023-02-20T17:52:26.844166Z"
    }
   },
   "outputs": [
    {
     "name": "stdout",
     "output_type": "stream",
     "text": [
      "README.markdown  emojis.md\r\n"
     ]
    }
   ],
   "source": [
    "!ls"
   ]
  },
  {
   "cell_type": "markdown",
   "metadata": {},
   "source": [
    "As you can see there are no emojis file in main yet"
   ]
  },
  {
   "cell_type": "code",
   "execution_count": 32,
   "metadata": {
    "execution": {
     "iopub.execute_input": "2023-02-20T17:52:26.848173Z",
     "iopub.status.busy": "2023-02-20T17:52:26.847811Z",
     "iopub.status.idle": "2023-02-20T17:52:27.287816Z",
     "shell.execute_reply": "2023-02-20T17:52:27.287059Z"
    }
   },
   "outputs": [
    {
     "name": "stdout",
     "output_type": "stream",
     "text": [
      "[emojis 21037bc] The mainline keeps moving\r\n",
      " 1 file changed, 1 insertion(+)\r\n"
     ]
    },
    {
     "name": "stdout",
     "output_type": "stream",
     "text": [
      "* \u001b[33m21037bc\u001b[m\u001b[33m (\u001b[m\u001b[1;36mHEAD -> \u001b[m\u001b[1;32memojis\u001b[m\u001b[33m)\u001b[m The mainline keeps moving\r\n",
      "* \u001b[33m41424cc\u001b[m Adding some emojis\r\n",
      "* \u001b[33med2fe14\u001b[m\u001b[33m (\u001b[m\u001b[1;32mmaster\u001b[m\u001b[33m)\u001b[m I like this new name better\r\n",
      "* \u001b[33mdcaf74c\u001b[m added second line.\r\n",
      "* \u001b[33mdaf4196\u001b[m First commit\r\n"
     ]
    }
   ],
   "source": [
    "!echo \"All the while, more work goes on in main...\" >> README.markdown\n",
    "!git commit -a -m \"The mainline keeps moving\"\n",
    "!git slog"
   ]
  },
  {
   "cell_type": "code",
   "execution_count": 33,
   "metadata": {
    "execution": {
     "iopub.execute_input": "2023-02-20T17:52:27.290985Z",
     "iopub.status.busy": "2023-02-20T17:52:27.290476Z",
     "iopub.status.idle": "2023-02-20T17:52:27.439383Z",
     "shell.execute_reply": "2023-02-20T17:52:27.438666Z"
    }
   },
   "outputs": [
    {
     "name": "stdout",
     "output_type": "stream",
     "text": [
      "README.markdown  emojis.md\r\n"
     ]
    }
   ],
   "source": [
    "!ls"
   ]
  },
  {
   "cell_type": "code",
   "execution_count": 34,
   "metadata": {
    "execution": {
     "iopub.execute_input": "2023-02-20T17:52:27.442452Z",
     "iopub.status.busy": "2023-02-20T17:52:27.441915Z",
     "iopub.status.idle": "2023-02-20T17:52:27.737291Z",
     "shell.execute_reply": "2023-02-20T17:52:27.736578Z"
    }
   },
   "outputs": [
    {
     "name": "stdout",
     "output_type": "stream",
     "text": [
      "Already up to date.\r\n"
     ]
    },
    {
     "name": "stdout",
     "output_type": "stream",
     "text": [
      "* \u001b[33m21037bc\u001b[m\u001b[33m (\u001b[m\u001b[1;36mHEAD -> \u001b[m\u001b[1;32memojis\u001b[m\u001b[33m)\u001b[m The mainline keeps moving\r\n",
      "* \u001b[33m41424cc\u001b[m Adding some emojis\r\n",
      "* \u001b[33med2fe14\u001b[m\u001b[33m (\u001b[m\u001b[1;32mmaster\u001b[m\u001b[33m)\u001b[m I like this new name better\r\n",
      "* \u001b[33mdcaf74c\u001b[m added second line.\r\n",
      "* \u001b[33mdaf4196\u001b[m First commit\r\n"
     ]
    }
   ],
   "source": [
    "!git merge emojis -m 'merge emojis'\n",
    "!git slog"
   ]
  },
  {
   "cell_type": "markdown",
   "metadata": {
    "slideshow": {
     "slide_type": "slide"
    }
   },
   "source": [
    "## Using remotes as a single user"
   ]
  },
  {
   "cell_type": "markdown",
   "metadata": {},
   "source": [
    "We are now going to introduce the concept of a *remote repository*: a pointer to another copy of the repository that lives on a different location.  This can be simply a different path on the filesystem or a server on the internet.\n",
    "\n",
    "For this discussion, we'll be using remotes hosted on the [GitHub.com](http://github.com) service, but you can equally use other services like [Gitlab](http://gitlab.com)\n",
    "\n",
    "Let's see if we have any remote repositories here:"
   ]
  },
  {
   "cell_type": "code",
   "execution_count": 35,
   "metadata": {
    "execution": {
     "iopub.execute_input": "2023-02-20T17:52:27.740541Z",
     "iopub.status.busy": "2023-02-20T17:52:27.739918Z",
     "iopub.status.idle": "2023-02-20T17:52:27.888814Z",
     "shell.execute_reply": "2023-02-20T17:52:27.887867Z"
    }
   },
   "outputs": [],
   "source": [
    "!git remote -v"
   ]
  },
  {
   "cell_type": "markdown",
   "metadata": {},
   "source": [
    "Since the above cell didn't produce any output after the `git remote -v` call, it means we have no remote repositories configured.  We will now proceed to do so.  Once logged into Github or Gitlab, go to the new repository page and make a repository called `test`.  Do **not** check the box that says `Initialize this repository with a README`, since we already have an existing repository here.  That option is useful when you're starting first at Github and don't have a repo made already on a local computer.\n",
    "\n",
    "We can now follow the instructions from the next page:"
   ]
  },
  {
   "cell_type": "markdown",
   "metadata": {},
   "source": [
    "### An important aside: conflict management"
   ]
  },
  {
   "cell_type": "markdown",
   "metadata": {},
   "source": [
    "While git is very good at merging, if two different branches modify the same file in the same location, it simply can't decide which change should prevail.  At that point, human intervention is necessary to make the decision.  Git will help you by marking the location in the file that has a problem, but it's up to you to resolve the conflict.  Let's see how that works by intentionally creating a conflict.\n",
    "\n",
    "We start by creating a branch and making a change to our experiment file:"
   ]
  },
  {
   "cell_type": "code",
   "execution_count": 36,
   "metadata": {
    "execution": {
     "iopub.execute_input": "2023-02-20T17:52:27.891914Z",
     "iopub.status.busy": "2023-02-20T17:52:27.891532Z",
     "iopub.status.idle": "2023-02-20T17:52:28.476832Z",
     "shell.execute_reply": "2023-02-20T17:52:28.476129Z"
    }
   },
   "outputs": [
    {
     "name": "stdout",
     "output_type": "stream",
     "text": [
      "Switched to branch 'trouble'\r\n"
     ]
    },
    {
     "name": "stdout",
     "output_type": "stream",
     "text": [
      "[trouble c7cc1a7] Adding a file for trouble\r\n",
      " 1 file changed, 1 insertion(+)\r\n"
     ]
    }
   ],
   "source": [
    "!git branch trouble\n",
    "!git checkout trouble\n",
    "!echo \"This is going to be a problem...\" >> README.markdown\n",
    "!git commit -a -m \"Adding a file for trouble\""
   ]
  },
  {
   "cell_type": "markdown",
   "metadata": {},
   "source": [
    "And now we go back to the main branch, where we change the *same* file:"
   ]
  },
  {
   "cell_type": "code",
   "execution_count": 37,
   "metadata": {
    "execution": {
     "iopub.execute_input": "2023-02-20T17:52:28.480047Z",
     "iopub.status.busy": "2023-02-20T17:52:28.479673Z",
     "iopub.status.idle": "2023-02-20T17:52:28.919724Z",
     "shell.execute_reply": "2023-02-20T17:52:28.919019Z"
    }
   },
   "outputs": [
    {
     "name": "stdout",
     "output_type": "stream",
     "text": [
      "error: pathspec 'main' did not match any file(s) known to git\r\n"
     ]
    },
    {
     "name": "stdout",
     "output_type": "stream",
     "text": [
      "[trouble d6d9f45] Keep working on the experiment\r\n",
      " 1 file changed, 1 insertion(+)\r\n"
     ]
    }
   ],
   "source": [
    "!git checkout main\n",
    "!echo \"At the same time main keeps working on same line will cause a MERGE CONFLICT ...\" >> README.markdown\n",
    "!git commit -a -m \"Keep working on the experiment\""
   ]
  },
  {
   "cell_type": "markdown",
   "metadata": {},
   "source": [
    "So now let's see what happens if we try to merge the `trouble` branch into `main`:"
   ]
  },
  {
   "cell_type": "code",
   "execution_count": 38,
   "metadata": {
    "execution": {
     "iopub.execute_input": "2023-02-20T17:52:28.922855Z",
     "iopub.status.busy": "2023-02-20T17:52:28.922491Z",
     "iopub.status.idle": "2023-02-20T17:52:29.070647Z",
     "shell.execute_reply": "2023-02-20T17:52:29.069928Z"
    }
   },
   "outputs": [
    {
     "name": "stdout",
     "output_type": "stream",
     "text": [
      "error: pathspec 'main' did not match any file(s) known to git\r\n"
     ]
    }
   ],
   "source": [
    "!git checkout main"
   ]
  },
  {
   "cell_type": "code",
   "execution_count": 39,
   "metadata": {
    "execution": {
     "iopub.execute_input": "2023-02-20T17:52:29.073737Z",
     "iopub.status.busy": "2023-02-20T17:52:29.073199Z",
     "iopub.status.idle": "2023-02-20T17:52:29.221913Z",
     "shell.execute_reply": "2023-02-20T17:52:29.221246Z"
    }
   },
   "outputs": [
    {
     "name": "stdout",
     "output_type": "stream",
     "text": [
      "Already up to date.\r\n"
     ]
    }
   ],
   "source": [
    "!git merge trouble"
   ]
  },
  {
   "cell_type": "markdown",
   "metadata": {},
   "source": [
    "Let's see what git has put into our file:"
   ]
  },
  {
   "cell_type": "markdown",
   "metadata": {},
   "source": [
    "At this point, we go into the file with a text editor, decide which changes to keep, and make a new commit that records our decision.  I've now made the edits, in this case I decided that both pieces of text were useful, but integrated them with some changes:"
   ]
  },
  {
   "cell_type": "markdown",
   "metadata": {},
   "source": [
    "Let's then make our new commit:"
   ]
  },
  {
   "cell_type": "code",
   "execution_count": 40,
   "metadata": {
    "execution": {
     "iopub.execute_input": "2023-02-20T17:52:29.224873Z",
     "iopub.status.busy": "2023-02-20T17:52:29.224536Z",
     "iopub.status.idle": "2023-02-20T17:52:29.520761Z",
     "shell.execute_reply": "2023-02-20T17:52:29.520032Z"
    }
   },
   "outputs": [
    {
     "name": "stdout",
     "output_type": "stream",
     "text": [
      "On branch trouble\r\n",
      "nothing to commit, working tree clean\r\n"
     ]
    },
    {
     "name": "stdout",
     "output_type": "stream",
     "text": [
      "* \u001b[33md6d9f45\u001b[m\u001b[33m (\u001b[m\u001b[1;36mHEAD -> \u001b[m\u001b[1;32mtrouble\u001b[m\u001b[33m)\u001b[m Keep working on the experiment\r\n",
      "* \u001b[33mc7cc1a7\u001b[m Adding a file for trouble\r\n",
      "* \u001b[33m21037bc\u001b[m\u001b[33m (\u001b[m\u001b[1;32memojis\u001b[m\u001b[33m)\u001b[m The mainline keeps moving\r\n",
      "* \u001b[33m41424cc\u001b[m Adding some emojis\r\n",
      "* \u001b[33med2fe14\u001b[m\u001b[33m (\u001b[m\u001b[1;32mmaster\u001b[m\u001b[33m)\u001b[m I like this new name better\r\n",
      "* \u001b[33mdcaf74c\u001b[m added second line.\r\n",
      "* \u001b[33mdaf4196\u001b[m First commit\r\n"
     ]
    }
   ],
   "source": [
    "!git commit -a -m \"Completed merge of trouble, fixing conflicts along the way\"\n",
    "!git slog"
   ]
  },
  {
   "cell_type": "markdown",
   "metadata": {},
   "source": [
    "*Note:* While it's a good idea to understand the basics of fixing merge conflicts by hand, in some cases you may find the use of an automated tool useful.  Git supports multiple [merge tools](https://www.kernel.org/pub/software/scm/git/docs/git-mergetool.html): a merge tool is a piece of software that conforms to a basic interface and knows how to merge two files into a new one.  Since these are typically graphical tools, there are various to choose from for the different operating systems, and as long as they obey a basic command structure, git can work with any of them."
   ]
  },
  {
   "cell_type": "markdown",
   "metadata": {
    "slideshow": {
     "slide_type": "slide"
    }
   },
   "source": [
    "## Git resources"
   ]
  },
  {
   "cell_type": "markdown",
   "metadata": {},
   "source": [
    "this tutorial is based on  [Francisco Perez GIT notebook](https://github.com/fperez/reprosw)  and has some ideas from the other links:\n",
    "\n",
    "- [atlassian tutorial](https://www.atlassian.com/git/tutorials/what-is-version-control)\n",
    "- [Github tutorial](https://docs.github.com/en/get-started/quickstart/hello-world)\n",
    "- [tutorial on version control](http://nbviewer.ipython.org/urls/raw.github.com/jrjohansson/scientific-python-lectures/master/Lecture-7-Revision-Control-Software.ipynb)\n",
    "- [\"Git for Scientists: A Tutorial\"](https://github.com/johnmcdonnell/Git-Tutorial) by John McDonnell\n",
    "- Emanuele Olivetti's lecture notes and exercises from the G-Node summer school on [Advanced Scientific Programming in Python](https://python.g-node.org/wiki/schedule).\n",
    "- [Pro Git book](http://git-scm.com/book)\n",
    "- [Cheat sheet](https://education.github.com/git-cheat-sheet-education.pdf)\n",
    "- [Git ready](http://www.gitready.com). A great website of posts on specific git-related topics, organized by difficulty.\n",
    "- [Git Magic](http://www-cs-students.stanford.edu/~blynn/gitmagic/index.html). Another book-size guide that has useful snippets.\n",
    "- [port](http://cworth.org/hgbook-git/tour) of the Hg book"
   ]
  },
  {
   "cell_type": "markdown",
   "metadata": {},
   "source": [
    "## Photonics resources\n",
    "\n",
    "You can `git clone` some repositories for photonics and `install` the repo\n",
    "\n",
    "Also, you can also add your fork information, `git add`, `git commit`, `git push` your changes and then send a pull request (request to merge your changes)"
   ]
  },
  {
   "cell_type": "markdown",
   "metadata": {},
   "source": [
    "For photonics layout you can take a look at [gdsfactory](https://gdsfactory.github.io/gdsfactory/)\n",
    "\n",
    "\n",
    "and copy paste these lines below changing `YourGithubUserName` with you GitHub username\n",
    "```bash\n",
    "!git clone https://github.com/gdsfactory/gdsfactory.git\n",
    "!cd gdsfactory\n",
    "!make install\n",
    "!git remote add fork git@github.com:YourGithubUserName/gdsfactory.git\n",
    "```"
   ]
  },
  {
   "cell_type": "markdown",
   "metadata": {},
   "source": [
    "For photonics layout you can take a look at [UBCpdk](https://gdsfactory.github.io/ubc/)\n",
    "\n",
    "\n",
    "and copy paste these lines below changing `YourGithubUserName` with you GitHub username\n",
    "```bash\n",
    "!git clone https://github.com/gdsfactory/ubc.git\n",
    "!cd ubc\n",
    "!make install\n",
    "!git remote add fork git@github.com:YourGithubUserName/ubc.git\n",
    "```"
   ]
  },
  {
   "cell_type": "markdown",
   "metadata": {},
   "source": [
    "For solving modes can take a look at [modes](https://modes.readthedocs.io/en/latest/notebooks.html)\n",
    "\n",
    "and copy paste these lines below changing `YourGithubUserName` with you GitHub username\n",
    "```bash\n",
    "!git clone https://github.com/joamatab/modesolverpy.git\n",
    "!cd modesolverpy\n",
    "!make install\n",
    "!git remote add fork git@github.com:YourGithubUserName/modesolverpy.git\n",
    "```"
   ]
  }
 ],
 "metadata": {
  "kernelspec": {
   "display_name": "Python 3 (ipykernel)",
   "language": "python",
   "name": "python3"
  },
  "language_info": {
   "codemirror_mode": {
    "name": "ipython",
    "version": 3
   },
   "file_extension": ".py",
   "mimetype": "text/x-python",
   "name": "python",
   "nbconvert_exporter": "python",
   "pygments_lexer": "ipython3",
   "version": "3.9.16"
  }
 },
 "nbformat": 4,
 "nbformat_minor": 4
}
